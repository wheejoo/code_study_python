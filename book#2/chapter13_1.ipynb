{
 "cells": [
  {
   "cell_type": "code",
   "execution_count": 1,
   "metadata": {},
   "outputs": [
    {
     "name": "stdout",
     "output_type": "stream",
     "text": [
      "deque([(2, 0), (1, 1), (3, 2), (2, 3)])\n",
      "(2, 0)\n",
      "3\n"
     ]
    }
   ],
   "source": [
    "priorities = [2,1,3,2]\n",
    "\n",
    "from collections import deque\n",
    "d = deque([(v,i) for i,v in enumerate(priorities)])\n",
    "print(d)\n",
    "item = d.popleft()\n",
    "print(item)\n",
    "print(max(d)[0])"
   ]
  },
  {
   "cell_type": "code",
   "execution_count": 2,
   "metadata": {},
   "outputs": [
    {
     "name": "stdout",
     "output_type": "stream",
     "text": [
      "4 4 2 1\n",
      "1 2\n",
      "1 3\n",
      "2 3\n",
      "2 4\n"
     ]
    }
   ],
   "source": [
    "from collections import deque\n",
    "\n",
    "n,m,k,x = map(int, input().split())\n",
    "graph = [[] for _ in range(n+1)]\n",
    "\n",
    "for _ in range(m):\n",
    "    a,b = map(int, input().split())\n",
    "    graph[a].append(b)\n",
    "    \n",
    "distance = [-1] * (n+1)\n",
    "distance[x] = 0\n",
    "\n",
    "q = deque([x])\n",
    "while q:\n",
    "    now = q.popleft()\n",
    "    for next_node in graph[now]:\n",
    "        if distance[next_node] == -1:\n",
    "            distance[next_node] = distance[now] + 1\n",
    "            q.append(next_node)\n",
    "            \n",
    "check = False\n",
    "for i in range(1, n+1):\n",
    "    if distance[i] == k:\n",
    "        check = True\n",
    "        \n",
    "if check == False:\n",
    "    print(-1)"
   ]
  },
  {
   "cell_type": "code",
   "execution_count": 3,
   "metadata": {},
   "outputs": [
    {
     "name": "stdout",
     "output_type": "stream",
     "text": [
      "7 7\n",
      "2 0 0 0 1 1 0\n",
      "0 0 1 0 1 2 0\n",
      "0 1 1 0 1 0 0\n",
      "0 1 0 0 0 0 0\n",
      "0 0 0 0 0 1 1\n",
      "0 1 0 0 0 0 0\n",
      "0 1 0 0 0 0 0\n",
      "0\n"
     ]
    }
   ],
   "source": [
    "n,m = map(int, input().split())\n",
    "data = []\n",
    "temp = [[0] * m for _ in range(n)]\n",
    "\n",
    "for _ in range(n):\n",
    "    data.append(list(map(int, input().split())))\n",
    "    \n",
    "dx = [-1, 0, 1, 0]\n",
    "dy = [0, -1, 0, 1]\n",
    "\n",
    "result = 0\n",
    "\n",
    "def virus(x,y):\n",
    "    for i in range(4):\n",
    "        nx = x + dx[i]\n",
    "        ny = y + dy[i]\n",
    "        if nx >= 0 and nx < n and ny >= 0 and ny < m:\n",
    "            if temp[nx][ny] == 0:\n",
    "                temp[nx][ny] = 2\n",
    "                virus(nx, ny)\n",
    "                \n",
    "def get_score():\n",
    "    score = 0 \n",
    "    for i in range(n):\n",
    "        for j in range(m):\n",
    "            if temp[i][j] == 0:\n",
    "                score += 1\n",
    "    return score\n",
    "                \n",
    "\n",
    "def dfs(count):\n",
    "    global result\n",
    "    if count == 3:\n",
    "        for i in range(n):\n",
    "            for j in range(m):\n",
    "                temp[i][j] = data[i][j]\n",
    "                \n",
    "        for i in range(n):\n",
    "            for j in range(m):\n",
    "                if temp[i][j] == 2:\n",
    "                    virus(i,j)\n",
    "                    \n",
    "        result = max(result, get_score())\n",
    "        return\n",
    "    for i in range(n):\n",
    "        for j in range(m):\n",
    "            if data[i][j] == 0:\n",
    "                data[i][j] = 1\n",
    "                count += 1\n",
    "                data[i][j] = 0\n",
    "                count -= 1\n",
    "dfs(0)\n",
    "print(result)"
   ]
  },
  {
   "cell_type": "code",
   "execution_count": 4,
   "metadata": {},
   "outputs": [
    {
     "name": "stdout",
     "output_type": "stream",
     "text": [
      "3 3\n",
      "1 0 2\n",
      "0 0 0\n",
      "3 0 0\n",
      "2 3 2\n",
      "3\n"
     ]
    }
   ],
   "source": [
    "from collections import deque\n",
    "\n",
    "n,k = map(int, input().split())\n",
    "graph = []\n",
    "data = []\n",
    "\n",
    "for i in range(n):\n",
    "    graph.append(list(map(int, input().split())))\n",
    "    for j in range(n):\n",
    "        if graph[i][j] != 0:\n",
    "            data.append((graph[i][j],0,i,j))\n",
    "            \n",
    "data.sort()\n",
    "q = deque(data)\n",
    "\n",
    "target_s, target_x, target_y = map(int, input().split())\n",
    "\n",
    "dx = [-1, 0, 1, 0]\n",
    "dy = [0, -1, 0, 1]\n",
    "\n",
    "while q:\n",
    "    virus, s, x, y = q.popleft()\n",
    "    if s == target_x:\n",
    "        break\n",
    "        \n",
    "    for i in range(4):\n",
    "        nx = x + dx[i]\n",
    "        ny = y + dy[i]\n",
    "        if nx >= 0 and nx < n and ny >=0 and ny <n:\n",
    "            if graph[nx][ny] == 0:\n",
    "                graph[nx][ny] = virus\n",
    "                q.append((virus, s+1, nx, ny))\n",
    "print(graph[target_x-1][target_y-1])"
   ]
  },
  {
   "cell_type": "code",
   "execution_count": 5,
   "metadata": {},
   "outputs": [],
   "source": [
    "def balanced_index(p):\n",
    "    count = 0\n",
    "    for i in range(len(p)):\n",
    "        if p[i] == '(':\n",
    "            count += 1\n",
    "        else:\n",
    "            count -= 1\n",
    "        if count == 0:\n",
    "            return i\n",
    "        \n",
    "def check_proper(p):\n",
    "    count = 0\n",
    "    for i in p:\n",
    "        if i == '(':\n",
    "            count += 1\n",
    "        else:\n",
    "            if count == 0:\n",
    "                return False\n",
    "            count -= 1\n",
    "    return True\n",
    "\n",
    "def solution(p):\n",
    "    answer = ''\n",
    "    if p == '(':\n",
    "        return answer\n",
    "    index = balance_index(p)\n",
    "    u = p[:index+1]\n",
    "    v = p[index+1:]\n",
    "    if check_proper(u):\n",
    "        answer = u + solution(v)\n",
    "    else:\n",
    "        answer = '('\n",
    "        answer += solution(v)\n",
    "        answer += ')'\n",
    "        u = list(u[1:-1])\n",
    "        for i in range(len(u)):\n",
    "            if u[i] == '(':\n",
    "                u[i] = ')'\n",
    "            else:\n",
    "                u[i] = '('\n",
    "        answer += \"\".join(u)\n",
    "    return answer      "
   ]
  },
  {
   "cell_type": "code",
   "execution_count": null,
   "metadata": {},
   "outputs": [],
   "source": []
  }
 ],
 "metadata": {
  "kernelspec": {
   "display_name": "Python 3",
   "language": "python",
   "name": "python3"
  },
  "language_info": {
   "codemirror_mode": {
    "name": "ipython",
    "version": 3
   },
   "file_extension": ".py",
   "mimetype": "text/x-python",
   "name": "python",
   "nbconvert_exporter": "python",
   "pygments_lexer": "ipython3",
   "version": "3.8.3"
  }
 },
 "nbformat": 4,
 "nbformat_minor": 4
}
