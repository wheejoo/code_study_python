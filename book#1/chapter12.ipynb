{
 "cells": [
  {
   "cell_type": "markdown",
   "metadata": {},
   "source": [
    "럭키 스트레이트"
   ]
  },
  {
   "cell_type": "code",
   "execution_count": 9,
   "metadata": {},
   "outputs": [
    {
     "name": "stdout",
     "output_type": "stream",
     "text": [
      "7755\n",
      "READY\n"
     ]
    }
   ],
   "source": [
    "n = input()\n",
    "\n",
    "mid = len(n)//2\n",
    "a = n[:mid]\n",
    "b = n[mid:]\n",
    "\n",
    "resulta = 0\n",
    "resultb = 0\n",
    "for i in a:\n",
    "    resulta += int(i)\n",
    "    \n",
    "for j in b:\n",
    "    resultb += int(j)\n",
    "    \n",
    "if resulta == resultb:\n",
    "    print('LUCKY')\n",
    "else:\n",
    "    print(\"READY\")"
   ]
  },
  {
   "cell_type": "code",
   "execution_count": 8,
   "metadata": {},
   "outputs": [
    {
     "name": "stdout",
     "output_type": "stream",
     "text": [
      "123402\n",
      "LUCKY\n"
     ]
    }
   ],
   "source": [
    "n = input()\n",
    "length = len(n)\n",
    "summary = 0\n",
    "\n",
    "for i in range(length//2):\n",
    "    summary += int(n[i])\n",
    "    \n",
    "for i in range(length//2, length):\n",
    "    summary -= int(n[i])\n",
    "    \n",
    "if summary == 0:\n",
    "    print(\"LUCKY\")\n",
    "else:\n",
    "    print(\"READY\")"
   ]
  },
  {
   "cell_type": "code",
   "execution_count": 15,
   "metadata": {},
   "outputs": [
    {
     "name": "stdout",
     "output_type": "stream",
     "text": [
      "K1KA5CB7\n",
      "ABCKK13\n"
     ]
    }
   ],
   "source": [
    "data = input()\n",
    "result = []\n",
    "value = 0\n",
    "\n",
    "for x in data:\n",
    "    if x.isalpha():\n",
    "        result.append(x)\n",
    "    else:\n",
    "        value += int(x)\n",
    "        \n",
    "result.sort()\n",
    "\n",
    "# print(result)\n",
    "\n",
    "if value != 0:\n",
    "    result.append(str(value))\n",
    "    \n",
    "print(''.join(result))"
   ]
  },
  {
   "cell_type": "code",
   "execution_count": 16,
   "metadata": {},
   "outputs": [
    {
     "name": "stdout",
     "output_type": "stream",
     "text": [
      "K1KA5CB7\n",
      "ABCKK13\n"
     ]
    }
   ],
   "source": [
    "data = input()\n",
    "result = []\n",
    "value = 0\n",
    "\n",
    "for x in data:\n",
    "    if x.isalpha():\n",
    "        result.append(x)\n",
    "    else:\n",
    "        value += int(x)\n",
    "        \n",
    "result.sort()\n",
    "\n",
    "if value != 0:\n",
    "    result.append(str(value))\n",
    "    \n",
    "print(''.join(result))"
   ]
  },
  {
   "cell_type": "markdown",
   "metadata": {},
   "source": [
    "문자열 압축"
   ]
  },
  {
   "cell_type": "code",
   "execution_count": 25,
   "metadata": {},
   "outputs": [
    {
     "name": "stdout",
     "output_type": "stream",
     "text": [
      "7\n"
     ]
    }
   ],
   "source": [
    "def solution(s):\n",
    "    answer = len(s)\n",
    "    \n",
    "    for step in range(1, len(s)//2+1):\n",
    "        compressed = \"\"\n",
    "        prev = s[0:step]\n",
    "        count = 1\n",
    "        \n",
    "        for j in range(step, len(s), step):\n",
    "            if prev == s[j:j + step]:\n",
    "                count += 1\n",
    "            else:\n",
    "                compressed += str(count) + prev if count >=2 else prev\n",
    "                prev = s[j:j + step]\n",
    "                count = 1\n",
    "                \n",
    "        compressed += str(count) + prev if count >= 2 else prev\n",
    "        answer = min(answer, len(compressed))\n",
    "    \n",
    "    return answer\n",
    "\n",
    "print(solution('aaaabbabbabb'))"
   ]
  },
  {
   "cell_type": "code",
   "execution_count": 27,
   "metadata": {},
   "outputs": [
    {
     "name": "stdout",
     "output_type": "stream",
     "text": [
      "a\n",
      "a\n",
      "a\n",
      "b\n",
      "b\n",
      "a\n",
      "b\n",
      "b\n",
      "a\n",
      "b\n",
      "b\n",
      "aa\n",
      "bb\n",
      "ab\n",
      "ba\n",
      "bb\n",
      "abb\n",
      "abb\n",
      "abb\n",
      "bbab\n",
      "babb\n",
      "babba\n",
      "bb\n",
      "abbabb\n"
     ]
    }
   ],
   "source": [
    "s = 'aaaabbabbabb'\n",
    "\n",
    "for step in range(1, len(s)//2+1):\n",
    "#     print(step)\n",
    "    prev = s[0:step]\n",
    "    for j in range(step, len(s), step):\n",
    "        a = s[j:j + step]\n",
    "        print(a)"
   ]
  },
  {
   "cell_type": "markdown",
   "metadata": {},
   "source": [
    "자물쇠와 열쇠"
   ]
  },
  {
   "cell_type": "code",
   "execution_count": 33,
   "metadata": {},
   "outputs": [
    {
     "name": "stdout",
     "output_type": "stream",
     "text": [
      "False\n"
     ]
    }
   ],
   "source": [
    "def rotate_a_matrix_by_90_degree(a):\n",
    "    n = len(a) #행\n",
    "    m = len(a[0]) #열\n",
    "    result = [[0] * n for _ in range(m)]\n",
    "    for i in range(n):\n",
    "        for j in range(m):\n",
    "            result[j][n-i-1] = a[i][j]\n",
    "    return result\n",
    "\n",
    "def check(new_lock):\n",
    "    lock_length = len(new_lock) // 3\n",
    "    for i in range(lock_length, lock_length * 2):\n",
    "        for j in range(lock_length, lock_length * 2):\n",
    "            if new_lock[i][j] != 1:\n",
    "                return False\n",
    "    return True\n",
    "\n",
    "def solution(key, lock):\n",
    "    n = len(lock)\n",
    "    m = len(key)\n",
    "    new_lock = [[0] * (n*3) for _ in range(n*3)]\n",
    "    for i in range(n):\n",
    "        for j in range(n):\n",
    "            new_lock[i+n][j+n] = new_lock[i][j]\n",
    "            \n",
    "    for rotation in range(4):\n",
    "        key = rotate_a_matrix_by_90_degree(key)\n",
    "        for x in range(n*2):\n",
    "            for y in range(n*2):\n",
    "                for i in range(m):\n",
    "                    for j in range(m):\n",
    "                        new_lock[x+i][y+j] += key[i][j]\n",
    "                if check(new_lock) == True:\n",
    "                    return True\n",
    "                for i in range(m):\n",
    "                    for j in range(m):\n",
    "                        new_lock[x+i][y+j] -= key[i][j]\n",
    "        return False\n",
    "    \n",
    "key = [[0,0,0],[1,0,0],[0,1,1]]\n",
    "lock = [[1,1,1],[1,1,0],[1,0,1]]\n",
    "print(solution(key,lock))"
   ]
  },
  {
   "cell_type": "markdown",
   "metadata": {},
   "source": [
    "뱀"
   ]
  },
  {
   "cell_type": "code",
   "execution_count": 5,
   "metadata": {},
   "outputs": [
    {
     "name": "stdout",
     "output_type": "stream",
     "text": [
      "6\n",
      "3\n",
      "3 4\n",
      "2 5\n",
      "5 3\n",
      "3\n",
      "3 D\n",
      "15 L\n",
      "17 D\n",
      "None\n"
     ]
    }
   ],
   "source": [
    "n = int(input())\n",
    "k = int(input())\n",
    "data = [[0] * (n+1) for _ in range(n+1)]\n",
    "info = []\n",
    "\n",
    "for _ in range(k):\n",
    "    a, b = map(int, input().split())\n",
    "    data[a][b] = 1\n",
    "    \n",
    "l = int(input())\n",
    "for _ in range(l):\n",
    "    x, c = input().split()\n",
    "    info.append((int(x), c))\n",
    "    \n",
    "dx = [0, 1, 0, -1]\n",
    "dy = [1, 0, -1, 0]\n",
    "    \n",
    "def turn(direction, c):\n",
    "    if c == \"L\":\n",
    "        direction = (direction - 1) % 4\n",
    "    else:\n",
    "        direction = (direction + 1) % 4\n",
    "    return direction\n",
    "\n",
    "def simulate():\n",
    "    x, y = 1, 1\n",
    "    data[x][y] = 2\n",
    "    direction = 0\n",
    "    time = 0\n",
    "    index = 0\n",
    "    q = [(x, y)]\n",
    "    while True:\n",
    "        nx = x + dx[direction]\n",
    "        ny = y + dy[direction]\n",
    "        \n",
    "        if 1 <= nx and nx <= n and 1 <= ny and ny <= n and data[nx][ny] != 2:\n",
    "            if data[nx][ny] == 0:\n",
    "                data[nx][ny] = 2\n",
    "                q.append((nx, ny))\n",
    "                px, py = q.pop(0)\n",
    "                data[px][py] = 0\n",
    "                \n",
    "            if data[nx][ny] == 1:\n",
    "                data[nx][ny] = 2\n",
    "                q.append((nx, ny))\n",
    "                \n",
    "            else:\n",
    "                time += 1\n",
    "                break\n",
    "            x, y = nx, ny\n",
    "            time += 1\n",
    "            if index < 1 and time == info[index][0]:\n",
    "                direction = turn(direction, info[index][1])\n",
    "                index += 1\n",
    "        return time\n",
    "    \n",
    "print(simulate())"
   ]
  },
  {
   "cell_type": "code",
   "execution_count": null,
   "metadata": {},
   "outputs": [],
   "source": []
  }
 ],
 "metadata": {
  "kernelspec": {
   "display_name": "Python 3",
   "language": "python",
   "name": "python3"
  },
  "language_info": {
   "codemirror_mode": {
    "name": "ipython",
    "version": 3
   },
   "file_extension": ".py",
   "mimetype": "text/x-python",
   "name": "python",
   "nbconvert_exporter": "python",
   "pygments_lexer": "ipython3",
   "version": "3.8.3"
  }
 },
 "nbformat": 4,
 "nbformat_minor": 4
}
