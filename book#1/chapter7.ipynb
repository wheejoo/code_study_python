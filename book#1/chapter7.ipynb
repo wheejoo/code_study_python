{
 "cells": [
  {
   "cell_type": "markdown",
   "metadata": {},
   "source": [
    "순차탐색"
   ]
  },
  {
   "cell_type": "code",
   "execution_count": 1,
   "metadata": {},
   "outputs": [
    {
     "name": "stdout",
     "output_type": "stream",
     "text": [
      "생성할 원소 개수를 입력한 다음 한 칸 띄고 찾을 문자열을 입력하세요.\n",
      "5 Dongbin\n",
      "앞서 적은 원소 개수만큼 문자열을 입력하세요. 구분은 띄어쓰기 한 칸으로 합니다.\n",
      "Hanul Jonggu Dongbin Taeil Sangwook\n",
      "3\n"
     ]
    }
   ],
   "source": [
    "def sequential_search(n, target, array):\n",
    "    for i in range(n):\n",
    "        if array[i] == target:\n",
    "            return i + 1\n",
    "        \n",
    "print(\"생성할 원소 개수를 입력한 다음 한 칸 띄고 찾을 문자열을 입력하세요.\")\n",
    "input_data = input().split()\n",
    "n = int(input_data[0])\n",
    "target = input_data[1]\n",
    "\n",
    "print(\"앞서 적은 원소 개수만큼 문자열을 입력하세요. 구분은 띄어쓰기 한 칸으로 합니다.\")\n",
    "array = input().split()\n",
    "\n",
    "print(sequential_search(n, target, array))"
   ]
  },
  {
   "cell_type": "code",
   "execution_count": 2,
   "metadata": {},
   "outputs": [],
   "source": [
    "def sequential_search(n, target, array):\n",
    "    for i in range(n):\n",
    "        if array[i] == target:\n",
    "            return i + 1"
   ]
  },
  {
   "cell_type": "markdown",
   "metadata": {},
   "source": [
    "이진탐색"
   ]
  },
  {
   "cell_type": "code",
   "execution_count": 3,
   "metadata": {},
   "outputs": [],
   "source": [
    "def binary_search(array, target, start, end):\n",
    "    if start > end:\n",
    "        return None\n",
    "    \n",
    "    mid = (start + end) // 2\n",
    "    if array[mid] == target:\n",
    "        return mid\n",
    "    \n",
    "    elif array[mid] > target:\n",
    "        return binary_search(array, target, start, mid - 1)\n",
    "    else: \n",
    "        return binary_search(array, target, mid+1, end)"
   ]
  },
  {
   "cell_type": "code",
   "execution_count": 4,
   "metadata": {},
   "outputs": [],
   "source": [
    "def binary_search(array, target, start, end):\n",
    "    if start > end:\n",
    "        return None\n",
    "    \n",
    "    mid = (start + end) // 2\n",
    "    \n",
    "    if array[mid] == target:\n",
    "        return mid\n",
    "    elif array[mid] > target:\n",
    "        return binary_search(array, target, start, mid - 1)\n",
    "    else:\n",
    "        return binary_search(array, target, mid + 1, end)"
   ]
  },
  {
   "cell_type": "markdown",
   "metadata": {},
   "source": [
    "부품 찾기"
   ]
  },
  {
   "cell_type": "code",
   "execution_count": 12,
   "metadata": {},
   "outputs": [
    {
     "name": "stdout",
     "output_type": "stream",
     "text": [
      "5\n",
      "8 3 7 9 2\n",
      "3\n",
      "5 7 9\n",
      "NO 7 9 "
     ]
    }
   ],
   "source": [
    "n = int(input())\n",
    "array = list(map(int, input().split()))\n",
    "array.sort()\n",
    "\n",
    "m = int(input())\n",
    "x = list(map(int, input().split()))\n",
    "\n",
    "def binary_search(array, target, start, end):\n",
    "    if start > end:\n",
    "        return None\n",
    "    \n",
    "    mid = (start + end) // 2\n",
    "    if array[mid] == target:\n",
    "        return mid\n",
    "    elif array[mid] > target:\n",
    "        return binary_search(array, target, start, mid - 1)\n",
    "    else:\n",
    "        return binary_search(array, target, mid + 1, end)\n",
    "    \n",
    "for i in x:\n",
    "    result = binary_search(array, i, 0, n-1)\n",
    "    if result != None:\n",
    "        print(i, end = ' ')\n",
    "    else:\n",
    "        print('NO', end = \" \")"
   ]
  },
  {
   "cell_type": "code",
   "execution_count": 7,
   "metadata": {},
   "outputs": [
    {
     "name": "stdout",
     "output_type": "stream",
     "text": [
      "5\n",
      "8 3 7 9 2\n",
      "3\n",
      "5 7 9\n",
      "No 7 9 "
     ]
    }
   ],
   "source": [
    "n = int(input())\n",
    "array = set(map(int, input().split()))\n",
    "\n",
    "m = int(input())\n",
    "x = list(map(int, input().split()))\n",
    "\n",
    "for i in x:\n",
    "    if i in array:\n",
    "        print(i, end = \" \")\n",
    "    else:\n",
    "        print('No', end = \" \")"
   ]
  },
  {
   "cell_type": "markdown",
   "metadata": {},
   "source": [
    "떡볶이 떡 만들기"
   ]
  },
  {
   "cell_type": "code",
   "execution_count": 13,
   "metadata": {},
   "outputs": [
    {
     "name": "stdout",
     "output_type": "stream",
     "text": [
      "4 6\n",
      "19 15 10 17\n",
      "15\n"
     ]
    }
   ],
   "source": [
    "n, m = map(int, input().split())\n",
    "array = list(map(int, input().split()))\n",
    "\n",
    "start = 0\n",
    "end = max(array)\n",
    "\n",
    "result = 0\n",
    "while(start <= end):\n",
    "    total = 0\n",
    "    mid = (start + end) // 2\n",
    "    for x in array:\n",
    "        if x > mid:\n",
    "            total += x - mid\n",
    "    if total < m:\n",
    "        end = mid - 1\n",
    "    else:\n",
    "        result = mid\n",
    "        start = mid + 1\n",
    "        \n",
    "print(result)"
   ]
  },
  {
   "cell_type": "code",
   "execution_count": null,
   "metadata": {},
   "outputs": [],
   "source": [
    "n, m = map(int, input().split())\n",
    "array = list(map(int, input().split()))\n",
    "\n",
    "start = 0\n",
    "end = max(array)\n",
    "\n",
    "result = 0\n",
    "while (start <= end):\n",
    "    total = 0\n",
    "    mid = (start + end) // 2\n",
    "    \n",
    "    for x in array:\n",
    "        if x > mid:\n",
    "            total += x - mid\n",
    "    if total < m:\n",
    "        end = mid - 1\n",
    "    else:\n",
    "        result = mid\n",
    "        start = mid + 1"
   ]
  }
 ],
 "metadata": {
  "kernelspec": {
   "display_name": "Python 3",
   "language": "python",
   "name": "python3"
  },
  "language_info": {
   "codemirror_mode": {
    "name": "ipython",
    "version": 3
   },
   "file_extension": ".py",
   "mimetype": "text/x-python",
   "name": "python",
   "nbconvert_exporter": "python",
   "pygments_lexer": "ipython3",
   "version": "3.8.3"
  }
 },
 "nbformat": 4,
 "nbformat_minor": 4
}
