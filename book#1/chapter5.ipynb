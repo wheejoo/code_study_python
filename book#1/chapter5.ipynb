{
 "cells": [
  {
   "cell_type": "code",
   "execution_count": 1,
   "metadata": {},
   "outputs": [
    {
     "name": "stdout",
     "output_type": "stream",
     "text": [
      "deque([2, 3, 7])\n"
     ]
    }
   ],
   "source": [
    "from collections import deque\n",
    "\n",
    "queue = deque()\n",
    "\n",
    "queue.append(5)\n",
    "queue.append(2)\n",
    "queue.append(3)\n",
    "queue.append(7)\n",
    "queue.popleft()\n",
    "\n",
    "print(queue)"
   ]
  },
  {
   "cell_type": "code",
   "execution_count": 3,
   "metadata": {},
   "outputs": [
    {
     "name": "stdout",
     "output_type": "stream",
     "text": [
      "1 번째 재귀 함수에서 2 번째 재귀 함수를 호출합니다.\n",
      "2 번째 재귀 함수에서 3 번째 재귀 함수를 호출합니다.\n",
      "3 번째 재귀 함수에서 4 번째 재귀 함수를 호출합니다.\n",
      "4 번째 재귀 함수에서 5 번째 재귀 함수를 호출합니다.\n",
      "5 번째 재귀 함수에서 6 번째 재귀 함수를 호출합니다.\n",
      "6 번째 재귀 함수에서 7 번째 재귀 함수를 호출합니다.\n",
      "7 번째 재귀 함수에서 8 번째 재귀 함수를 호출합니다.\n",
      "8 번째 재귀 함수에서 9 번째 재귀 함수를 호출합니다.\n",
      "9 번째 재귀 함수에서 10 번째 재귀 함수를 호출합니다.\n",
      "10 번째 재귀 함수에서 11 번째 재귀 함수를 호출합니다.\n",
      "11 번째 재귀 함수에서 12 번째 재귀 함수를 호출합니다.\n",
      "12 번째 재귀 함수에서 13 번째 재귀 함수를 호출합니다.\n",
      "13 번째 재귀 함수에서 14 번째 재귀 함수를 호출합니다.\n",
      "14 번째 재귀 함수에서 15 번째 재귀 함수를 호출합니다.\n",
      "15 번째 재귀 함수에서 16 번째 재귀 함수를 호출합니다.\n",
      "16 번째 재귀 함수에서 17 번째 재귀 함수를 호출합니다.\n",
      "17 번째 재귀 함수에서 18 번째 재귀 함수를 호출합니다.\n",
      "18 번째 재귀 함수에서 19 번째 재귀 함수를 호출합니다.\n",
      "19 번째 재귀 함수에서 20 번째 재귀 함수를 호출합니다.\n",
      "20 번째 재귀 함수에서 21 번째 재귀 함수를 호출합니다.\n",
      "21 번째 재귀 함수에서 22 번째 재귀 함수를 호출합니다.\n",
      "22 번째 재귀 함수에서 23 번째 재귀 함수를 호출합니다.\n",
      "23 번째 재귀 함수에서 24 번째 재귀 함수를 호출합니다.\n",
      "24 번째 재귀 함수에서 25 번째 재귀 함수를 호출합니다.\n",
      "25 번째 재귀 함수에서 26 번째 재귀 함수를 호출합니다.\n",
      "26 번째 재귀 함수에서 27 번째 재귀 함수를 호출합니다.\n",
      "27 번째 재귀 함수에서 28 번째 재귀 함수를 호출합니다.\n",
      "28 번째 재귀 함수에서 29 번째 재귀 함수를 호출합니다.\n",
      "29 번째 재귀 함수에서 30 번째 재귀 함수를 호출합니다.\n",
      "30 번째 재귀 함수에서 31 번째 재귀 함수를 호출합니다.\n",
      "31 번째 재귀 함수에서 32 번째 재귀 함수를 호출합니다.\n",
      "32 번째 재귀 함수에서 33 번째 재귀 함수를 호출합니다.\n",
      "33 번째 재귀 함수에서 34 번째 재귀 함수를 호출합니다.\n",
      "34 번째 재귀 함수에서 35 번째 재귀 함수를 호출합니다.\n",
      "35 번째 재귀 함수에서 36 번째 재귀 함수를 호출합니다.\n",
      "36 번째 재귀 함수에서 37 번째 재귀 함수를 호출합니다.\n",
      "37 번째 재귀 함수에서 38 번째 재귀 함수를 호출합니다.\n",
      "38 번째 재귀 함수에서 39 번째 재귀 함수를 호출합니다.\n",
      "39 번째 재귀 함수에서 40 번째 재귀 함수를 호출합니다.\n",
      "40 번째 재귀 함수에서 41 번째 재귀 함수를 호출합니다.\n",
      "41 번째 재귀 함수에서 42 번째 재귀 함수를 호출합니다.\n",
      "42 번째 재귀 함수에서 43 번째 재귀 함수를 호출합니다.\n",
      "43 번째 재귀 함수에서 44 번째 재귀 함수를 호출합니다.\n",
      "44 번째 재귀 함수에서 45 번째 재귀 함수를 호출합니다.\n",
      "45 번째 재귀 함수에서 46 번째 재귀 함수를 호출합니다.\n",
      "46 번째 재귀 함수에서 47 번째 재귀 함수를 호출합니다.\n",
      "47 번째 재귀 함수에서 48 번째 재귀 함수를 호출합니다.\n",
      "48 번째 재귀 함수에서 49 번째 재귀 함수를 호출합니다.\n",
      "49 번째 재귀 함수에서 50 번째 재귀 함수를 호출합니다.\n",
      "50 번째 재귀 함수에서 51 번째 재귀 함수를 호출합니다.\n",
      "51 번째 재귀 함수에서 52 번째 재귀 함수를 호출합니다.\n",
      "52 번째 재귀 함수에서 53 번째 재귀 함수를 호출합니다.\n",
      "53 번째 재귀 함수에서 54 번째 재귀 함수를 호출합니다.\n",
      "54 번째 재귀 함수에서 55 번째 재귀 함수를 호출합니다.\n",
      "55 번째 재귀 함수에서 56 번째 재귀 함수를 호출합니다.\n",
      "56 번째 재귀 함수에서 57 번째 재귀 함수를 호출합니다.\n",
      "57 번째 재귀 함수에서 58 번째 재귀 함수를 호출합니다.\n",
      "58 번째 재귀 함수에서 59 번째 재귀 함수를 호출합니다.\n",
      "59 번째 재귀 함수에서 60 번째 재귀 함수를 호출합니다.\n",
      "60 번째 재귀 함수에서 61 번째 재귀 함수를 호출합니다.\n",
      "61 번째 재귀 함수에서 62 번째 재귀 함수를 호출합니다.\n",
      "62 번째 재귀 함수에서 63 번째 재귀 함수를 호출합니다.\n",
      "63 번째 재귀 함수에서 64 번째 재귀 함수를 호출합니다.\n",
      "64 번째 재귀 함수에서 65 번째 재귀 함수를 호출합니다.\n",
      "65 번째 재귀 함수에서 66 번째 재귀 함수를 호출합니다.\n",
      "66 번째 재귀 함수에서 67 번째 재귀 함수를 호출합니다.\n",
      "67 번째 재귀 함수에서 68 번째 재귀 함수를 호출합니다.\n",
      "68 번째 재귀 함수에서 69 번째 재귀 함수를 호출합니다.\n",
      "69 번째 재귀 함수에서 70 번째 재귀 함수를 호출합니다.\n",
      "70 번째 재귀 함수에서 71 번째 재귀 함수를 호출합니다.\n",
      "71 번째 재귀 함수에서 72 번째 재귀 함수를 호출합니다.\n",
      "72 번째 재귀 함수에서 73 번째 재귀 함수를 호출합니다.\n",
      "73 번째 재귀 함수에서 74 번째 재귀 함수를 호출합니다.\n",
      "74 번째 재귀 함수에서 75 번째 재귀 함수를 호출합니다.\n",
      "75 번째 재귀 함수에서 76 번째 재귀 함수를 호출합니다.\n",
      "76 번째 재귀 함수에서 77 번째 재귀 함수를 호출합니다.\n",
      "77 번째 재귀 함수에서 78 번째 재귀 함수를 호출합니다.\n",
      "78 번째 재귀 함수에서 79 번째 재귀 함수를 호출합니다.\n",
      "79 번째 재귀 함수에서 80 번째 재귀 함수를 호출합니다.\n",
      "80 번째 재귀 함수에서 81 번째 재귀 함수를 호출합니다.\n",
      "81 번째 재귀 함수에서 82 번째 재귀 함수를 호출합니다.\n",
      "82 번째 재귀 함수에서 83 번째 재귀 함수를 호출합니다.\n",
      "83 번째 재귀 함수에서 84 번째 재귀 함수를 호출합니다.\n",
      "84 번째 재귀 함수에서 85 번째 재귀 함수를 호출합니다.\n",
      "85 번째 재귀 함수에서 86 번째 재귀 함수를 호출합니다.\n",
      "86 번째 재귀 함수에서 87 번째 재귀 함수를 호출합니다.\n",
      "87 번째 재귀 함수에서 88 번째 재귀 함수를 호출합니다.\n",
      "88 번째 재귀 함수에서 89 번째 재귀 함수를 호출합니다.\n",
      "89 번째 재귀 함수에서 90 번째 재귀 함수를 호출합니다.\n",
      "90 번째 재귀 함수에서 91 번째 재귀 함수를 호출합니다.\n",
      "91 번째 재귀 함수에서 92 번째 재귀 함수를 호출합니다.\n",
      "92 번째 재귀 함수에서 93 번째 재귀 함수를 호출합니다.\n",
      "93 번째 재귀 함수에서 94 번째 재귀 함수를 호출합니다.\n",
      "94 번째 재귀 함수에서 95 번째 재귀 함수를 호출합니다.\n",
      "95 번째 재귀 함수에서 96 번째 재귀 함수를 호출합니다.\n",
      "96 번째 재귀 함수에서 97 번째 재귀 함수를 호출합니다.\n",
      "97 번째 재귀 함수에서 98 번째 재귀 함수를 호출합니다.\n",
      "98 번째 재귀 함수에서 99 번째 재귀 함수를 호출합니다.\n",
      "99 번째 재귀 함수에서 100 번째 재귀 함수를 호출합니다.\n",
      "99 번째 재귀 함수를 종료합니다.\n",
      "98 번째 재귀 함수를 종료합니다.\n",
      "97 번째 재귀 함수를 종료합니다.\n",
      "96 번째 재귀 함수를 종료합니다.\n",
      "95 번째 재귀 함수를 종료합니다.\n",
      "94 번째 재귀 함수를 종료합니다.\n",
      "93 번째 재귀 함수를 종료합니다.\n",
      "92 번째 재귀 함수를 종료합니다.\n",
      "91 번째 재귀 함수를 종료합니다.\n",
      "90 번째 재귀 함수를 종료합니다.\n",
      "89 번째 재귀 함수를 종료합니다.\n",
      "88 번째 재귀 함수를 종료합니다.\n",
      "87 번째 재귀 함수를 종료합니다.\n",
      "86 번째 재귀 함수를 종료합니다.\n",
      "85 번째 재귀 함수를 종료합니다.\n",
      "84 번째 재귀 함수를 종료합니다.\n",
      "83 번째 재귀 함수를 종료합니다.\n",
      "82 번째 재귀 함수를 종료합니다.\n",
      "81 번째 재귀 함수를 종료합니다.\n",
      "80 번째 재귀 함수를 종료합니다.\n",
      "79 번째 재귀 함수를 종료합니다.\n",
      "78 번째 재귀 함수를 종료합니다.\n",
      "77 번째 재귀 함수를 종료합니다.\n",
      "76 번째 재귀 함수를 종료합니다.\n",
      "75 번째 재귀 함수를 종료합니다.\n",
      "74 번째 재귀 함수를 종료합니다.\n",
      "73 번째 재귀 함수를 종료합니다.\n",
      "72 번째 재귀 함수를 종료합니다.\n",
      "71 번째 재귀 함수를 종료합니다.\n",
      "70 번째 재귀 함수를 종료합니다.\n",
      "69 번째 재귀 함수를 종료합니다.\n",
      "68 번째 재귀 함수를 종료합니다.\n",
      "67 번째 재귀 함수를 종료합니다.\n",
      "66 번째 재귀 함수를 종료합니다.\n",
      "65 번째 재귀 함수를 종료합니다.\n",
      "64 번째 재귀 함수를 종료합니다.\n",
      "63 번째 재귀 함수를 종료합니다.\n",
      "62 번째 재귀 함수를 종료합니다.\n",
      "61 번째 재귀 함수를 종료합니다.\n",
      "60 번째 재귀 함수를 종료합니다.\n",
      "59 번째 재귀 함수를 종료합니다.\n",
      "58 번째 재귀 함수를 종료합니다.\n",
      "57 번째 재귀 함수를 종료합니다.\n",
      "56 번째 재귀 함수를 종료합니다.\n",
      "55 번째 재귀 함수를 종료합니다.\n",
      "54 번째 재귀 함수를 종료합니다.\n",
      "53 번째 재귀 함수를 종료합니다.\n",
      "52 번째 재귀 함수를 종료합니다.\n",
      "51 번째 재귀 함수를 종료합니다.\n",
      "50 번째 재귀 함수를 종료합니다.\n",
      "49 번째 재귀 함수를 종료합니다.\n",
      "48 번째 재귀 함수를 종료합니다.\n",
      "47 번째 재귀 함수를 종료합니다.\n",
      "46 번째 재귀 함수를 종료합니다.\n",
      "45 번째 재귀 함수를 종료합니다.\n",
      "44 번째 재귀 함수를 종료합니다.\n",
      "43 번째 재귀 함수를 종료합니다.\n",
      "42 번째 재귀 함수를 종료합니다.\n",
      "41 번째 재귀 함수를 종료합니다.\n",
      "40 번째 재귀 함수를 종료합니다.\n",
      "39 번째 재귀 함수를 종료합니다.\n",
      "38 번째 재귀 함수를 종료합니다.\n",
      "37 번째 재귀 함수를 종료합니다.\n",
      "36 번째 재귀 함수를 종료합니다.\n",
      "35 번째 재귀 함수를 종료합니다.\n",
      "34 번째 재귀 함수를 종료합니다.\n",
      "33 번째 재귀 함수를 종료합니다.\n",
      "32 번째 재귀 함수를 종료합니다.\n",
      "31 번째 재귀 함수를 종료합니다.\n",
      "30 번째 재귀 함수를 종료합니다.\n",
      "29 번째 재귀 함수를 종료합니다.\n",
      "28 번째 재귀 함수를 종료합니다.\n",
      "27 번째 재귀 함수를 종료합니다.\n",
      "26 번째 재귀 함수를 종료합니다.\n",
      "25 번째 재귀 함수를 종료합니다.\n",
      "24 번째 재귀 함수를 종료합니다.\n",
      "23 번째 재귀 함수를 종료합니다.\n",
      "22 번째 재귀 함수를 종료합니다.\n",
      "21 번째 재귀 함수를 종료합니다.\n",
      "20 번째 재귀 함수를 종료합니다.\n",
      "19 번째 재귀 함수를 종료합니다.\n",
      "18 번째 재귀 함수를 종료합니다.\n",
      "17 번째 재귀 함수를 종료합니다.\n",
      "16 번째 재귀 함수를 종료합니다.\n",
      "15 번째 재귀 함수를 종료합니다.\n",
      "14 번째 재귀 함수를 종료합니다.\n",
      "13 번째 재귀 함수를 종료합니다.\n",
      "12 번째 재귀 함수를 종료합니다.\n",
      "11 번째 재귀 함수를 종료합니다.\n",
      "10 번째 재귀 함수를 종료합니다.\n",
      "9 번째 재귀 함수를 종료합니다.\n",
      "8 번째 재귀 함수를 종료합니다.\n",
      "7 번째 재귀 함수를 종료합니다.\n",
      "6 번째 재귀 함수를 종료합니다.\n",
      "5 번째 재귀 함수를 종료합니다.\n",
      "4 번째 재귀 함수를 종료합니다.\n",
      "3 번째 재귀 함수를 종료합니다.\n",
      "2 번째 재귀 함수를 종료합니다.\n",
      "1 번째 재귀 함수를 종료합니다.\n"
     ]
    }
   ],
   "source": [
    "def recursive_fun(i):\n",
    "    if i == 100:\n",
    "        return\n",
    "    print(i, '번째 재귀 함수에서', i+1, '번째 재귀 함수를 호출합니다.')\n",
    "    recursive_fun(i+1)\n",
    "    print(i, '번째 재귀 함수를 종료합니다.')\n",
    "    \n",
    "recursive_fun(1)"
   ]
  },
  {
   "cell_type": "code",
   "execution_count": 5,
   "metadata": {},
   "outputs": [
    {
     "name": "stdout",
     "output_type": "stream",
     "text": [
      "120\n"
     ]
    }
   ],
   "source": [
    "def factorial_iterative(n):\n",
    "    result = 1\n",
    "    for i in range(1, n+1):\n",
    "        result *= i\n",
    "    return result\n",
    "\n",
    "print(factorial_iterative(5))"
   ]
  },
  {
   "cell_type": "code",
   "execution_count": 6,
   "metadata": {},
   "outputs": [
    {
     "name": "stdout",
     "output_type": "stream",
     "text": [
      "24\n"
     ]
    }
   ],
   "source": [
    "def factorial_iterative(n):\n",
    "    result = 1\n",
    "    for i in range(1, n+1):\n",
    "        result *= i\n",
    "    return result\n",
    "\n",
    "print(factorial_iterative(4))"
   ]
  },
  {
   "cell_type": "code",
   "execution_count": 7,
   "metadata": {},
   "outputs": [
    {
     "name": "stdout",
     "output_type": "stream",
     "text": [
      "120\n"
     ]
    }
   ],
   "source": [
    "def factorial_iterative(n):\n",
    "    if n<=1:\n",
    "        return 1\n",
    "    return n*factorial_iterative(n-1)\n",
    "\n",
    "print(factorial_iterative(5))"
   ]
  },
  {
   "cell_type": "markdown",
   "metadata": {},
   "source": [
    "탐색 알고리즘 DFS/BFS"
   ]
  },
  {
   "cell_type": "code",
   "execution_count": 8,
   "metadata": {},
   "outputs": [
    {
     "name": "stdout",
     "output_type": "stream",
     "text": [
      "[[0, 7, 5], [7, 0, 999999999], [5, 999999999, 0]]\n"
     ]
    }
   ],
   "source": [
    "INF = 999999999\n",
    "\n",
    "graph = [\n",
    "    [0,7,5],\n",
    "    [7,0,INF],\n",
    "    [5,INF,0]\n",
    "]\n",
    "print(graph)"
   ]
  },
  {
   "cell_type": "code",
   "execution_count": 11,
   "metadata": {},
   "outputs": [
    {
     "name": "stdout",
     "output_type": "stream",
     "text": [
      "[[(1, 7), (2, 5)], [(0, 7)], [(0, 5)]]\n"
     ]
    }
   ],
   "source": [
    "graph = [[] for _ in range(3)]\n",
    "\n",
    "graph[0].append((1,7))\n",
    "graph[0].append((2,5))\n",
    "\n",
    "graph[1].append((0,7))\n",
    "graph[2].append((0,5))\n",
    "\n",
    "print(graph)"
   ]
  },
  {
   "cell_type": "code",
   "execution_count": 13,
   "metadata": {},
   "outputs": [
    {
     "name": "stdout",
     "output_type": "stream",
     "text": [
      "1 2 7 6 8 3 4 5 "
     ]
    }
   ],
   "source": [
    "def dfs(graph, v, visited):\n",
    "    visited[v] = True\n",
    "    print(v, end = ' ')\n",
    "    \n",
    "    for i in graph[v]:\n",
    "        if not visited[i]:\n",
    "            dfs(graph, i, visited)\n",
    "            \n",
    "graph = [[],\n",
    "        [2,3,8],\n",
    "        [1,7],\n",
    "        [1,4,5],\n",
    "        [3,5],\n",
    "        [3,4],\n",
    "        [7],\n",
    "        [2,6,8],\n",
    "        [1,7]]\n",
    "\n",
    "visited = [False] * 99\n",
    "\n",
    "dfs(graph, 1, visited)"
   ]
  },
  {
   "cell_type": "code",
   "execution_count": 14,
   "metadata": {},
   "outputs": [
    {
     "name": "stdout",
     "output_type": "stream",
     "text": [
      "5 3 1 2 7 6 8 4 "
     ]
    }
   ],
   "source": [
    "def dfs(graph, v, visited):\n",
    "    visited[v] = True\n",
    "    print(v, end = ' ')\n",
    "    \n",
    "    for i in graph[v]:\n",
    "        if not visited[i]:\n",
    "            dfs(graph, i, visited)\n",
    "            \n",
    "graph = [[],\n",
    "        [2,3,8],\n",
    "        [1,7],\n",
    "        [1,4,5],\n",
    "        [3,5],\n",
    "        [3,4],\n",
    "        [7],\n",
    "        [2,6,8],\n",
    "        [1,7]]\n",
    "\n",
    "visited = [False] * 99\n",
    "\n",
    "dfs(graph, 5, visited)"
   ]
  },
  {
   "cell_type": "code",
   "execution_count": 18,
   "metadata": {},
   "outputs": [
    {
     "name": "stdout",
     "output_type": "stream",
     "text": [
      "1 2 3 8 7 4 5 6 "
     ]
    }
   ],
   "source": [
    "from collections import deque\n",
    "\n",
    "def bfs(graph, start, visited):\n",
    "    queue = deque([start])\n",
    "    visited[start] = True\n",
    "    \n",
    "    while queue:\n",
    "        v = queue.popleft()\n",
    "        print(v, end = \" \")\n",
    "        for i in graph[v]:\n",
    "            if not visited[i]:\n",
    "                queue.append(i)\n",
    "                visited[i] = True\n",
    "                \n",
    "graph = [[],\n",
    "        [2,3,8],\n",
    "        [1,7],\n",
    "        [1,4,5],\n",
    "        [3,5],\n",
    "        [3,4],\n",
    "        [7],\n",
    "        [2,6,8],\n",
    "        [1,7]]\n",
    "\n",
    "visited = [False] * 9\n",
    "bfs(graph, 1, visited)"
   ]
  },
  {
   "cell_type": "code",
   "execution_count": 19,
   "metadata": {},
   "outputs": [
    {
     "name": "stdout",
     "output_type": "stream",
     "text": [
      "1 2 3 8 7 4 5 6 "
     ]
    }
   ],
   "source": [
    "from collections import deque\n",
    "\n",
    "def bfs(graph, start, visited):\n",
    "    queue = deque([start])\n",
    "    visited[start] = True\n",
    "    \n",
    "    while queue:\n",
    "        v = queue.popleft()\n",
    "        print(v, end = \" \")\n",
    "        for i in graph[v]:\n",
    "            if not visited[i]:\n",
    "                queue.append(i)\n",
    "                visited[i] = True\n",
    "                \n",
    "graph = [[],\n",
    "        [2,3,8],\n",
    "        [1,7],\n",
    "        [1,4,5],\n",
    "        [3,5],\n",
    "        [3,4],\n",
    "        [7],\n",
    "        [2,6,8],\n",
    "        [1,7]]\n",
    "\n",
    "visited = [False] * 9\n",
    "bfs(graph, 1, visited)"
   ]
  },
  {
   "cell_type": "markdown",
   "metadata": {},
   "source": [
    "음료수 얼려 먹기"
   ]
  },
  {
   "cell_type": "code",
   "execution_count": 24,
   "metadata": {},
   "outputs": [
    {
     "name": "stdout",
     "output_type": "stream",
     "text": [
      "4 5\n",
      "00110\n",
      "00011\n",
      "11111\n",
      "00000\n",
      "3\n"
     ]
    }
   ],
   "source": [
    "n, m = map(int, input().split(\" \"))\n",
    "\n",
    "graph = []\n",
    "for i in range(n):\n",
    "    graph.append(list(map(int, input())))\n",
    "    \n",
    "def dfs(x,y):\n",
    "    if x <= -1 or x >= n or y <= -1 or y >= m:\n",
    "        return False\n",
    "    \n",
    "    if graph[x][y] == 0:\n",
    "        graph[x][y] = 1\n",
    "        dfs(x-1, y)\n",
    "        dfs(x, y-1)\n",
    "        dfs(x+1,y)\n",
    "        dfs(x, y+1)\n",
    "        return True\n",
    "    return False\n",
    "\n",
    "result = 0\n",
    "for i in range(n):\n",
    "    for j in range(m):\n",
    "        if dfs(i,j) == True:\n",
    "            result += 1\n",
    "            \n",
    "print(result)"
   ]
  },
  {
   "cell_type": "code",
   "execution_count": 28,
   "metadata": {},
   "outputs": [
    {
     "name": "stdout",
     "output_type": "stream",
     "text": [
      "4 5\n",
      "00110\n",
      "00011\n",
      "11111\n",
      "00000\n",
      "3\n"
     ]
    }
   ],
   "source": [
    "n, m = map(int, input().split(' '))\n",
    "\n",
    "graph = []\n",
    "for i in range(n):\n",
    "    graph.append(list(map(int,input())))\n",
    "    \n",
    "def dfs(x,y):\n",
    "    if x<=-1 or x>=n or y<=-1 or y>=m:\n",
    "        return False\n",
    "    \n",
    "    if graph[x][y] == 0:\n",
    "        graph[x][y] = 1\n",
    "        dfs(x-1,y)\n",
    "        dfs(x,y-1)\n",
    "        dfs(x+1,y)\n",
    "        dfs(x,y+1)\n",
    "        return True\n",
    "    return False\n",
    "\n",
    "result = 0\n",
    "for i in range(n):\n",
    "    for j in range(m):\n",
    "        if dfs(i,j) == True:\n",
    "            result += 1\n",
    "            \n",
    "print(result)"
   ]
  },
  {
   "cell_type": "code",
   "execution_count": 31,
   "metadata": {},
   "outputs": [
    {
     "name": "stdout",
     "output_type": "stream",
     "text": [
      "4 5\n",
      "00110\n",
      "00011\n",
      "11111\n",
      "00000\n",
      "3\n"
     ]
    }
   ],
   "source": [
    "n, m = map(int,input().split(' '))\n",
    "\n",
    "graph = []\n",
    "for i in range(n):\n",
    "    graph.append(list(map(int, input())))\n",
    "    \n",
    "def dfs(x,y):\n",
    "    if x<=-1 or x>=n or y<=-1 or y>=m:\n",
    "        return False\n",
    "    \n",
    "    if graph[x][y] == 0:\n",
    "        graph[x][y] = 1\n",
    "        dfs(x-1,y)\n",
    "        dfs(x,y-1)\n",
    "        dfs(x+1,y)\n",
    "        dfs(x,y+1)\n",
    "        return True\n",
    "    return False\n",
    "\n",
    "result = 0\n",
    "for i in range(n):\n",
    "    for j in range(m):\n",
    "        if dfs(i,j) == True:\n",
    "            result += 1\n",
    "            \n",
    "print(result)"
   ]
  },
  {
   "cell_type": "markdown",
   "metadata": {},
   "source": [
    "미로탈출"
   ]
  },
  {
   "cell_type": "code",
   "execution_count": 33,
   "metadata": {},
   "outputs": [
    {
     "name": "stdout",
     "output_type": "stream",
     "text": [
      "5 6\n",
      "101010\n",
      "111111\n",
      "000001\n",
      "111111\n",
      "111111\n",
      "10\n"
     ]
    }
   ],
   "source": [
    "from collections import deque\n",
    "\n",
    "n,m = map(int, input().split(' '))\n",
    "graph = []\n",
    "for i in range(n):\n",
    "    graph.append(list(map(int, input())))\n",
    "    \n",
    "dx = [-1,1,0,0]\n",
    "dy = [0,0,-1,1]\n",
    "\n",
    "def bfs(x,y):\n",
    "    queue = deque()\n",
    "    queue.append((x,y))\n",
    "    \n",
    "    while queue:\n",
    "        x, y = queue.popleft()\n",
    "        \n",
    "        for i in range(4):\n",
    "            nx = x + dx[i]\n",
    "            ny = y + dy[i]\n",
    "            \n",
    "            if nx < 0 or ny < 0 or nx >= n or ny >= m:\n",
    "                continue\n",
    "            if graph[nx][ny] == 0:\n",
    "                continue\n",
    "            if graph[nx][ny] == 1:\n",
    "                graph[nx][ny] = graph[x][y] + 1\n",
    "                queue.append((nx,ny))\n",
    "                \n",
    "    return graph[n-1][m-1]\n",
    "\n",
    "print(bfs(0,0))"
   ]
  },
  {
   "cell_type": "code",
   "execution_count": 35,
   "metadata": {},
   "outputs": [
    {
     "name": "stdout",
     "output_type": "stream",
     "text": [
      "5 6\n",
      "101010\n",
      "111111\n",
      "000001\n",
      "111111\n",
      "111111\n",
      "10\n"
     ]
    }
   ],
   "source": [
    "from collections import deque\n",
    "\n",
    "n, m = map(int, input().split(' '))\n",
    "\n",
    "graph = []\n",
    "for i in range(n):\n",
    "    graph.append(list(map(int, input())))\n",
    "    \n",
    "dx = [-1,1,0,0]\n",
    "dy = [0,0,-1,1]\n",
    "\n",
    "def bfs(x,y):\n",
    "    queue = deque()\n",
    "    queue.append((x,y))\n",
    "    \n",
    "    while queue:\n",
    "        x, y = queue.popleft()\n",
    "        for i in range(4):\n",
    "            nx = x + dx[i]\n",
    "            ny = y + dy[i]\n",
    "            \n",
    "            if nx < 0 or ny < 0 or nx >= n or ny >= m:\n",
    "                continue\n",
    "            \n",
    "            if graph[nx][ny] == 0:\n",
    "                continue\n",
    "            if graph[nx][ny] == 1:\n",
    "                graph[nx][ny] = graph[x][y] + 1\n",
    "                queue.append((nx,ny))\n",
    "    return graph[n-1][m-1]\n",
    "\n",
    "print(bfs(0,0))"
   ]
  },
  {
   "cell_type": "code",
   "execution_count": 37,
   "metadata": {},
   "outputs": [
    {
     "name": "stdout",
     "output_type": "stream",
     "text": [
      "5 6\n",
      "101010\n",
      "000001\n",
      "111111\n",
      "000000\n",
      "111111\n",
      "3\n"
     ]
    }
   ],
   "source": [
    "from collections import deque\n",
    "\n",
    "n, m = map(int,input().split(' '))\n",
    "\n",
    "graph = []\n",
    "for i in range(n):\n",
    "    graph.append(list(map(int, input())))\n",
    "    \n",
    "dx = [-1,1,0,0]\n",
    "dy = [0,0,-1,1]\n",
    "\n",
    "def bfs(x,y):\n",
    "    queue = deque()\n",
    "    queue.append((x,y))\n",
    "    \n",
    "    while queue:\n",
    "        x, y = queue.popleft()\n",
    "        \n",
    "        for i in range(4):\n",
    "            nx = x + dx[i]\n",
    "            ny = y + dy[i]\n",
    "            \n",
    "            if graph[nx][ny] == 0:\n",
    "                continue\n",
    "            if graph[nx][ny] == 1:\n",
    "                graph[nx][ny] = graph[x][y] + 1\n",
    "                queue.append((nx,ny))\n",
    "    return graph[n-1][m-1]\n",
    "\n",
    "print(bfs(0,0))"
   ]
  },
  {
   "cell_type": "code",
   "execution_count": null,
   "metadata": {},
   "outputs": [],
   "source": []
  }
 ],
 "metadata": {
  "kernelspec": {
   "display_name": "Python 3",
   "language": "python",
   "name": "python3"
  },
  "language_info": {
   "codemirror_mode": {
    "name": "ipython",
    "version": 3
   },
   "file_extension": ".py",
   "mimetype": "text/x-python",
   "name": "python",
   "nbconvert_exporter": "python",
   "pygments_lexer": "ipython3",
   "version": "3.8.3"
  }
 },
 "nbformat": 4,
 "nbformat_minor": 4
}
