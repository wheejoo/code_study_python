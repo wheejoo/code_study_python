{
 "cells": [
  {
   "cell_type": "markdown",
   "metadata": {},
   "source": [
    "서로소 집합"
   ]
  },
  {
   "cell_type": "code",
   "execution_count": 1,
   "metadata": {},
   "outputs": [
    {
     "name": "stdout",
     "output_type": "stream",
     "text": [
      "6 4\n",
      "1 4\n",
      "2 3\n",
      "2 4\n",
      "5 6\n",
      "각 원소가 속한 집합:  1 1 1 1 5 5 \n",
      "부모 테이블:  1 1 2 1 5 5 "
     ]
    }
   ],
   "source": [
    "def find_parent(parent, x):\n",
    "    if parent[x] != x:\n",
    "        return find_parent(parent, parent[x])\n",
    "    return x\n",
    "\n",
    "def union_parent(parent, a, b):\n",
    "    a = find_parent(parent, a)\n",
    "    b = find_parent(parent, b)\n",
    "    if a < b:\n",
    "        parent[b] = a\n",
    "    else:\n",
    "        parent[a] = b\n",
    "        \n",
    "v, e = map(int, input().split())\n",
    "parent = [0] * (v+1)\n",
    "\n",
    "for i in range(1, v+1):\n",
    "    parent[i] = i\n",
    "    \n",
    "for i in range(e):\n",
    "    a, b = map(int, input().split())\n",
    "    union_parent(parent, a, b)\n",
    "    \n",
    "print(\"각 원소가 속한 집합: \", end = \" \")\n",
    "for i in range(1, v+1):\n",
    "    print(find_parent(parent, i), end = \" \")\n",
    "    \n",
    "print()\n",
    "\n",
    "print('부모 테이블: ', end = \" \")\n",
    "for i in range(1, v+1):\n",
    "    print(parent[i], end = \" \")"
   ]
  },
  {
   "cell_type": "code",
   "execution_count": 2,
   "metadata": {},
   "outputs": [
    {
     "name": "stdout",
     "output_type": "stream",
     "text": [
      "6 4\n",
      "1 4\n",
      "2 3\n",
      "2 4\n",
      "5 6\n",
      "각 원소가 속한 집합:  1 1 1 1 5 5 \n",
      "부모 테이블:  1 1 2 1 5 5 "
     ]
    }
   ],
   "source": [
    "def find_parent(parent, x):\n",
    "    if parent[x] != x:\n",
    "        return find_parent(parent, parent[x])\n",
    "    return x\n",
    "\n",
    "def union_parent(parent, a, b):\n",
    "    a = find_parent(parent, a)\n",
    "    b = find_parent(parent, b)\n",
    "    if a < b:\n",
    "        parent[b] = a\n",
    "    else:\n",
    "        parent[a] = b\n",
    "        \n",
    "v, e = map(int, input().split())\n",
    "parent = [0] * (v+1)\n",
    "\n",
    "for i in range(1, v+1):\n",
    "    parent[i] = i\n",
    "    \n",
    "for i in range(e):\n",
    "    a, b = map(int, input().split())\n",
    "    union_parent(parent, a, b)\n",
    "    \n",
    "print('각 원소가 속한 집합: ', end = \" \")\n",
    "for i in range(1, v+1):\n",
    "    print(find_parent(parent, i), end = \" \")\n",
    "    \n",
    "print()\n",
    "\n",
    "print(\"부모 테이블: \", end = \" \")\n",
    "for i in range(1, v+1):\n",
    "    print(parent[i], end = \" \")"
   ]
  },
  {
   "cell_type": "markdown",
   "metadata": {},
   "source": [
    "서로소 집합을 활용한 사이클 판별 "
   ]
  },
  {
   "cell_type": "code",
   "execution_count": 4,
   "metadata": {},
   "outputs": [
    {
     "name": "stdout",
     "output_type": "stream",
     "text": [
      "3 3\n",
      "1 2\n",
      "1 3\n",
      "2 3\n",
      "cycle 발생\n"
     ]
    }
   ],
   "source": [
    "def find_parent(parent, x):\n",
    "    if parent[x] != x:\n",
    "        return find_parent(parent, parent[x])\n",
    "    return parent[x]\n",
    "\n",
    "def union_parent(parent, a, b):\n",
    "    a = find_parent(parent, a)\n",
    "    b = find_parent(parent, b)\n",
    "    if a < b:\n",
    "        parent[b] = a\n",
    "    else:\n",
    "        parent[a] = b\n",
    "        \n",
    "v, e = map(int, input().split())\n",
    "parent = [0] * (v+1)\n",
    "\n",
    "for i in range(1, v+1):\n",
    "    parent[i] = i\n",
    "    \n",
    "\n",
    "cycle = False\n",
    "\n",
    "for i in range(e):\n",
    "    a, b = map(int, input().split())\n",
    "    \n",
    "    if find_parent(parent, a) == find_parent(parent, b):\n",
    "        cycle = True\n",
    "        break\n",
    "    else:\n",
    "        union_parent(parent, a, b)\n",
    "        \n",
    "if cycle:\n",
    "    print(\"cycle 발생\")\n",
    "else:\n",
    "    print(\"cycle 발생x\")"
   ]
  },
  {
   "cell_type": "markdown",
   "metadata": {},
   "source": [
    "크루스칼 알고리즘"
   ]
  },
  {
   "cell_type": "code",
   "execution_count": 5,
   "metadata": {},
   "outputs": [
    {
     "name": "stdout",
     "output_type": "stream",
     "text": [
      "7 9\n",
      "1 2 29\n",
      "1 5 75\n",
      "2 3 35\n",
      "2 6 34\n",
      "3 4 7\n",
      "4 6 23\n",
      "4 7 13\n",
      "5 6 53\n",
      "6 7 25\n",
      "159\n"
     ]
    }
   ],
   "source": [
    "def find_parent(parent, x):\n",
    "    if parent[x] != x:\n",
    "        return find_parent(parent, parent[x])\n",
    "    return parent[x]\n",
    "\n",
    "def union_parent(parent, a, b):\n",
    "    a = find_parent(parent, a)\n",
    "    b = find_parent(parent, b)\n",
    "    if a < b:\n",
    "        parent[b] = a\n",
    "    else:\n",
    "        parent[a] = b\n",
    "        \n",
    "v, e = map(int, input().split())\n",
    "parent = [0] * (v+1)\n",
    "\n",
    "edges = []\n",
    "result = 0\n",
    "\n",
    "for i in range(1, v+1):\n",
    "    parent[i] = i\n",
    "    \n",
    "for _ in range(e):\n",
    "    a, b, cost = map(int, input().split())\n",
    "    edges.append((cost, a, b))\n",
    "    \n",
    "edges.sort()\n",
    "\n",
    "for edge in edges:\n",
    "    cost, a, b = edge\n",
    "    \n",
    "    if find_parent(parent, a) != find_parent(parent, b):\n",
    "        union_parent(parent, a, b)\n",
    "        result += cost\n",
    "        \n",
    "print(result)"
   ]
  },
  {
   "cell_type": "markdown",
   "metadata": {},
   "source": [
    "위상정렬"
   ]
  },
  {
   "cell_type": "code",
   "execution_count": 7,
   "metadata": {},
   "outputs": [
    {
     "name": "stdout",
     "output_type": "stream",
     "text": [
      "7 8\n",
      "1 2\n",
      "1 5\n",
      "2 3\n",
      "2 6\n",
      "3 4\n",
      "4 7\n",
      "5 6\n",
      "6 4\n",
      "1 2 5 3 6 4 7 "
     ]
    }
   ],
   "source": [
    "from collections import deque\n",
    "\n",
    "v, e = map(int, input().split())\n",
    "indegree = [0] * (v+1)\n",
    "graph = [[] for i in range(v+1)]\n",
    "\n",
    "for _ in range(e):\n",
    "    a, b = map(int, input().split())\n",
    "    graph[a].append(b)\n",
    "    indegree[b] += 1\n",
    "    \n",
    "def topology_sort():\n",
    "    result = []\n",
    "    q = deque()\n",
    "    \n",
    "    for i in range(1, v+1):\n",
    "        if indegree[i] == 0:\n",
    "            q.append(i)\n",
    "            \n",
    "    while q:\n",
    "        now = q.popleft()\n",
    "        result.append(now)\n",
    "        \n",
    "        for i in graph[now]:\n",
    "            indegree[i] -= 1\n",
    "            \n",
    "            if indegree[i] == 0:\n",
    "                q.append(i)\n",
    "                \n",
    "    for i in result:\n",
    "        print(i, end = \" \")\n",
    "        \n",
    "topology_sort()"
   ]
  },
  {
   "cell_type": "code",
   "execution_count": 10,
   "metadata": {},
   "outputs": [
    {
     "name": "stdout",
     "output_type": "stream",
     "text": [
      "7 8\n",
      "1 2\n",
      "1 5\n",
      "2 3\n",
      "2 6\n",
      "3 4\n",
      "4 7\n",
      "5 6\n",
      "6 4\n",
      "1 2 3 4 5 6 7 2 5 3 6 4 7 6 7 "
     ]
    }
   ],
   "source": [
    "from collections import deque\n",
    "\n",
    "v, e = map(int, input().split())\n",
    "indegree = [0] * (v+1)\n",
    "graph = [[] for i in range(v+1)]\n",
    "\n",
    "for _ in range(e):\n",
    "    a, b = map(int, input().split())\n",
    "    graph[a].append(b)\n",
    "    \n",
    "def topology_sort():\n",
    "    result = []\n",
    "    q = deque()\n",
    "    \n",
    "    for i in range(1, v+1):\n",
    "        if indegree[i] == 0:\n",
    "            q.append(i)\n",
    "    \n",
    "    while q:\n",
    "        now = q.popleft()\n",
    "        result.append(now)\n",
    "        \n",
    "        for i in graph[now]:\n",
    "            indegree[now] -= 1\n",
    "            \n",
    "            if indegree[i] == 0:\n",
    "                q.append(i)\n",
    "                \n",
    "    for i in result:\n",
    "        print(i, end = \" \")\n",
    "        \n",
    "topology_sort()"
   ]
  },
  {
   "cell_type": "markdown",
   "metadata": {},
   "source": [
    "팀 결성"
   ]
  },
  {
   "cell_type": "code",
   "execution_count": 11,
   "metadata": {},
   "outputs": [
    {
     "name": "stdout",
     "output_type": "stream",
     "text": [
      "7 8\n",
      "0 1 3\n",
      "1 1 7\n",
      "No\n",
      "0 7 6\n",
      "1 7 1\n",
      "No\n",
      "0 3 7\n",
      "0 4 2\n",
      "0 1 1\n",
      "1 1 1\n",
      "Yes\n"
     ]
    }
   ],
   "source": [
    "def find_parent(parent, x):\n",
    "    if parent[x] != x:\n",
    "        return find_parent(parent, parent[x])\n",
    "    return parent[x]\n",
    "\n",
    "def union_parent(parent, a, b):\n",
    "    a = find_parent(parent, a)\n",
    "    b = find_parent(parent, b)\n",
    "    if a < b:\n",
    "        parent[b] = a\n",
    "    else:\n",
    "        parent[a] = b\n",
    "        \n",
    "n, m = map(int, input().split())\n",
    "parent = [0] * (n+1)\n",
    "\n",
    "for i in range(0, n+1):\n",
    "    parent[i] = i\n",
    "    \n",
    "for i in range(m):\n",
    "    oper, a, b = map(int, input().split())\n",
    "    if oper == 0:\n",
    "        union_parent(parent, a, b)\n",
    "    elif oper == 1:\n",
    "        if find_parent(parent, a) == find_parent(parent, b):\n",
    "            print('Yes')\n",
    "        else:\n",
    "            print('No')"
   ]
  },
  {
   "cell_type": "markdown",
   "metadata": {},
   "source": [
    "도시 분할 계획"
   ]
  },
  {
   "cell_type": "code",
   "execution_count": 13,
   "metadata": {},
   "outputs": [
    {
     "name": "stdout",
     "output_type": "stream",
     "text": [
      "7 12\n",
      "1 2 3\n",
      "1 3 2\n",
      "3 2 1\n",
      "2 5 2\n",
      "3 4 4\n",
      "7 3 6\n",
      "5 1 5\n",
      "1 6 2\n",
      "6 4 1\n",
      "6 5 3\n",
      "4 5 3\n",
      "6 7 4\n",
      "8\n"
     ]
    }
   ],
   "source": [
    "def find_parent(parent, x):\n",
    "    if parent[x] != x:\n",
    "        return find_parent(parent, parent[x])\n",
    "    return parent[x]\n",
    "\n",
    "def union_parent(parent, a, b):\n",
    "    a = find_parent(parent, a)\n",
    "    b = find_parent(parent, b)\n",
    "    if a < b:\n",
    "        parent[b] = a\n",
    "    else:\n",
    "        parent[a] = b\n",
    "        \n",
    "n, m = map(int, input().split())\n",
    "parent = [0] * (n+1)\n",
    "\n",
    "edges = []\n",
    "result = 0\n",
    "\n",
    "for i in range(1, n+1):\n",
    "    parent[i] = i\n",
    "    \n",
    "for _ in range(m):\n",
    "    a, b, cost = map(int, input().split())\n",
    "    edges.append((cost, a, b))\n",
    "    \n",
    "edges.sort()\n",
    "last = 0\n",
    "\n",
    "for edge in edges:\n",
    "    cost, a, b = edge\n",
    "    if find_parent(parent, a) != find_parent(parent, b):\n",
    "        union_parent(parent, a, b)\n",
    "        result += cost\n",
    "        last = cost\n",
    "        \n",
    "print(result - last)\n",
    "    \n",
    "    \n",
    "\n",
    "\n"
   ]
  },
  {
   "cell_type": "code",
   "execution_count": 15,
   "metadata": {},
   "outputs": [
    {
     "name": "stdout",
     "output_type": "stream",
     "text": [
      "7 12\n",
      "1 2 3\n",
      "3 2 1\n",
      "2 5 2\n",
      "3 4 4\n",
      "7 3 6\n",
      "5 1 5\n",
      "1 6 2\n",
      "6 4 1\n",
      "6 5 3\n",
      "4 5 3\n",
      "6 7 4\n",
      "1 3 2\n",
      "8\n"
     ]
    }
   ],
   "source": [
    "def find_parent(parent, x):\n",
    "    if parent[x] != x:\n",
    "        return find_parent(parent, parent[x])\n",
    "    return parent[x]\n",
    "\n",
    "def union_parent(parent, a, b):\n",
    "    a = find_parent(parent, a)\n",
    "    b = find_parent(parent, b)\n",
    "    if a < b:\n",
    "        parent[b] = a\n",
    "    else:\n",
    "        parent[a] = b\n",
    "        \n",
    "n, m = map(int, input().split())\n",
    "parent = [0] * (n+1)\n",
    "\n",
    "edges = []\n",
    "result = 0\n",
    "\n",
    "for i in range(1, n+1):\n",
    "    parent[i] = i\n",
    "    \n",
    "for _ in range(m):\n",
    "    a, b, cost = map(int, input().split())\n",
    "    edges.append((cost, a, b))\n",
    "    \n",
    "edges.sort()\n",
    "last = 0\n",
    "for edge in edges:\n",
    "    cost, a, b = edge\n",
    "    for i in range(1, n+1):\n",
    "        if find_parent(parent, a) != find_parent(parent, b):\n",
    "            union_parent(parent, a, b)\n",
    "            result += cost\n",
    "            last = cost\n",
    "print(result - last)"
   ]
  },
  {
   "cell_type": "markdown",
   "metadata": {},
   "source": [
    "커리큘럼"
   ]
  },
  {
   "cell_type": "code",
   "execution_count": 17,
   "metadata": {},
   "outputs": [
    {
     "ename": "SyntaxError",
     "evalue": "invalid syntax (<ipython-input-17-2fe59657ca13>, line 21)",
     "output_type": "error",
     "traceback": [
      "\u001b[1;36m  File \u001b[1;32m\"<ipython-input-17-2fe59657ca13>\"\u001b[1;36m, line \u001b[1;32m21\u001b[0m\n\u001b[1;33m    indegree[i] == 0:\u001b[0m\n\u001b[1;37m                     ^\u001b[0m\n\u001b[1;31mSyntaxError\u001b[0m\u001b[1;31m:\u001b[0m invalid syntax\n"
     ]
    }
   ],
   "source": [
    "from collections import deque\n",
    "import copy\n",
    "\n",
    "v = int(input())\n",
    "indegree = [0] * (v+1)\n",
    "graph = [[] for i in range(v+1)]\n",
    "time = [0] * (v+1)\n",
    "\n",
    "for i in range(1, v+1):\n",
    "    data = list(map(int, input().split()))\n",
    "    time[i] = data[0]\n",
    "    for x in data[1:-1]:\n",
    "        indegree[i] += 1\n",
    "        graph[x].append(i)\n",
    "        \n",
    "def topoloty_sort():\n",
    "    result = copy.deepcopy(time)\n",
    "    q = deque()\n",
    "    \n",
    "    for i in range(1, v+1):\n",
    "        if indegree[i] == 0:\n",
    "            q.append(i)\n",
    "            \n",
    "    while q:\n",
    "        now = q.popleft()\n",
    "        for i graph[now]:\n",
    "            result[i] = max(result[i], result[now] + time[i])\n",
    "            indegree[i] -= 1\n",
    "            if indegree[i] == 0:\n",
    "                q.append(i)\n",
    "                \n",
    "    for i in range(1, v+1):\n",
    "        print(result[i])\n",
    "        \n",
    "topology_sort()"
   ]
  },
  {
   "cell_type": "code",
   "execution_count": 1,
   "metadata": {},
   "outputs": [
    {
     "name": "stdout",
     "output_type": "stream",
     "text": [
      "5\n",
      "10 -1\n",
      "10 1 -1\n",
      "4 1 -1\n",
      "4 3 1 -1\n",
      "3 3 -1\n",
      "10\n",
      "20\n",
      "14\n",
      "18\n",
      "17\n"
     ]
    }
   ],
   "source": [
    "from collections import deque\n",
    "import copy\n",
    "\n",
    "v = int(input())\n",
    "graph = [[] for i in range(v+1)]\n",
    "time = [0] * (v+1)\n",
    "indegree = [0] * (v+1)\n",
    "\n",
    "for i in range(1, v+1):\n",
    "    data = list(map(int, input().split()))\n",
    "    time[i] = data[0]\n",
    "    for x in data[1:-1]:\n",
    "        indegree[i] += 1\n",
    "        graph[x].append(i)\n",
    "        \n",
    "def topology_sort():\n",
    "    q = deque()\n",
    "    result = copy.deepcopy(time)\n",
    "    \n",
    "    for i in range(1, v+1):\n",
    "        if indegree[i] == 0:\n",
    "            q.append(i)\n",
    "        \n",
    "    while q:\n",
    "        now = q.popleft()\n",
    "        for i in graph[now]:\n",
    "            result[i] = max(result[i], result[now] + time[i])\n",
    "            indegree[i] -= 1\n",
    "            if indegree[i] == 0:\n",
    "                q.append(i)\n",
    "    \n",
    "    for i in range(1, v+1):\n",
    "        print(result[i])\n",
    "\n",
    "topology_sort()"
   ]
  },
  {
   "cell_type": "code",
   "execution_count": null,
   "metadata": {},
   "outputs": [],
   "source": []
  }
 ],
 "metadata": {
  "kernelspec": {
   "display_name": "Python 3",
   "language": "python",
   "name": "python3"
  },
  "language_info": {
   "codemirror_mode": {
    "name": "ipython",
    "version": 3
   },
   "file_extension": ".py",
   "mimetype": "text/x-python",
   "name": "python",
   "nbconvert_exporter": "python",
   "pygments_lexer": "ipython3",
   "version": "3.8.3"
  }
 },
 "nbformat": 4,
 "nbformat_minor": 4
}
