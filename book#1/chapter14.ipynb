{
 "cells": [
  {
   "cell_type": "markdown",
   "metadata": {},
   "source": [
    "국영수"
   ]
  },
  {
   "cell_type": "code",
   "execution_count": 11,
   "metadata": {},
   "outputs": [
    {
     "name": "stdout",
     "output_type": "stream",
     "text": [
      "12\n",
      "j 50 60 100\n",
      "Sang 80 60 50\n",
      "Sun 80 70 100\n",
      "Soong 50 60 90\n",
      "Haebin 50 60 100\n",
      "Kangsoo 60 80 100\n",
      "Sei 70 70 70\n",
      "Wonseb 70 70 80\n",
      "nsj 80 80 80\n",
      "Taewhan 50 60 90\n",
      "Donghyuk 80 60 100\n",
      "Sanghyun 70 70 80\n",
      "Donghyuk\n",
      "Sang\n",
      "Sun\n",
      "nsj\n",
      "Sanghyun\n",
      "Wonseb\n",
      "Sei\n",
      "Kangsoo\n",
      "Haebin\n",
      "j\n",
      "Soong\n",
      "Taewhan\n"
     ]
    }
   ],
   "source": [
    "n = int(input())\n",
    "\n",
    "data = []\n",
    "\n",
    "for _ in range(n):\n",
    "    data.append(list(input().split()))\n",
    "    \n",
    "data.sort(key = lambda x : (-int(x[1]), int(x[2]), -int(x[3]), x[0]))\n",
    "\n",
    "for student in data:\n",
    "    print(student[0])"
   ]
  },
  {
   "cell_type": "code",
   "execution_count": 16,
   "metadata": {},
   "outputs": [
    {
     "name": "stdout",
     "output_type": "stream",
     "text": [
      "[(3, 1, 9), (3, 5, 5), (5, 1, 5), (3, 1, 1)]\n"
     ]
    }
   ],
   "source": [
    "a = [(5,1,5), (3,5,5), (3,1,9), (3,1,1)]\n",
    "a.sort(key = lambda x : (-x[2], x[0]))\n",
    "\n",
    "print(a)\n",
    "#-는 큰수에서 작은수 내림차순"
   ]
  },
  {
   "cell_type": "markdown",
   "metadata": {},
   "source": [
    "안테나"
   ]
  },
  {
   "cell_type": "code",
   "execution_count": 18,
   "metadata": {},
   "outputs": [
    {
     "name": "stdout",
     "output_type": "stream",
     "text": [
      "4\n",
      "5 1 7 9\n",
      "5\n"
     ]
    }
   ],
   "source": [
    "n = int(input())\n",
    "\n",
    "data = list(map(int, input().split()))\n",
    "data.sort()\n",
    "\n",
    "print(data[(n-1)//2])"
   ]
  },
  {
   "cell_type": "markdown",
   "metadata": {},
   "source": [
    "실패율"
   ]
  },
  {
   "cell_type": "code",
   "execution_count": 23,
   "metadata": {},
   "outputs": [
    {
     "name": "stdout",
     "output_type": "stream",
     "text": [
      "[3, 4, 2, 1, 5]\n"
     ]
    }
   ],
   "source": [
    "N = 5\n",
    "stages = [2,1,2,6,2,4,3,3]\n",
    "\n",
    "def solution(N, stages):\n",
    "    answer = []\n",
    "    length = len(stages)\n",
    "    \n",
    "    for i in range(1, N+1):\n",
    "        count = stages.count(i)\n",
    "#         print(count)\n",
    "\n",
    "        if length == 0:\n",
    "            fail = 0\n",
    "        else:\n",
    "            fail = count / length\n",
    "    \n",
    "        answer.append((i, fail))\n",
    "        length -= count\n",
    "        \n",
    "    answer = sorted(answer, key=lambda t : t[1], reverse = True)\n",
    "    answer = [i[0] for i in answer]\n",
    "    return answer\n",
    "\n",
    "print(solution(N, stages))"
   ]
  },
  {
   "cell_type": "code",
   "execution_count": 24,
   "metadata": {},
   "outputs": [
    {
     "name": "stdout",
     "output_type": "stream",
     "text": [
      "[5, 4, 3, 2, 1]\n"
     ]
    }
   ],
   "source": [
    "a = [1,3,5,4,2]\n",
    "a = sorted(a, reverse = True)\n",
    "print(a)"
   ]
  },
  {
   "cell_type": "markdown",
   "metadata": {},
   "source": [
    "카드 정렬하기"
   ]
  },
  {
   "cell_type": "code",
   "execution_count": 30,
   "metadata": {},
   "outputs": [
    {
     "name": "stdout",
     "output_type": "stream",
     "text": [
      "3\n",
      "10\n",
      "20\n",
      "40\n",
      "100\n"
     ]
    }
   ],
   "source": [
    "import heapq\n",
    "\n",
    "n = int(input())\n",
    "heap = []\n",
    "for i in range(n):\n",
    "    data = int(input())\n",
    "    heapq.heappush(heap, data)\n",
    "    \n",
    "result = 0\n",
    "\n",
    "while len(heap) != 1:\n",
    "    one = heapq.heappop(heap)\n",
    "    two = heapq.heappop(heap)\n",
    "    sum_value = one + two\n",
    "    result += sum_value\n",
    "    heapq.heappush(heap, sum_value)\n",
    "    \n",
    "print(result)"
   ]
  },
  {
   "cell_type": "code",
   "execution_count": 31,
   "metadata": {},
   "outputs": [
    {
     "name": "stdout",
     "output_type": "stream",
     "text": [
      "3\n",
      "10\n",
      "20\n",
      "40\n",
      "100\n"
     ]
    }
   ],
   "source": [
    "import heapq\n",
    "\n",
    "n = int(input())\n",
    "heap = []\n",
    "for i in range(n):\n",
    "    data = int(input())\n",
    "    heapq.heappush(heap, data)\n",
    "    \n",
    "result = 0\n",
    "\n",
    "while len(heap) != 1:\n",
    "    one = heapq.heappop(heap)\n",
    "    two = heapq.heappop(heap)\n",
    "    sum_value = one + two\n",
    "    result += sum_value\n",
    "    heapq.heappush(heap, sum_value)\n",
    "    \n",
    "print(result)"
   ]
  },
  {
   "cell_type": "code",
   "execution_count": null,
   "metadata": {},
   "outputs": [],
   "source": []
  }
 ],
 "metadata": {
  "kernelspec": {
   "display_name": "Python 3",
   "language": "python",
   "name": "python3"
  },
  "language_info": {
   "codemirror_mode": {
    "name": "ipython",
    "version": 3
   },
   "file_extension": ".py",
   "mimetype": "text/x-python",
   "name": "python",
   "nbconvert_exporter": "python",
   "pygments_lexer": "ipython3",
   "version": "3.8.3"
  }
 },
 "nbformat": 4,
 "nbformat_minor": 4
}
