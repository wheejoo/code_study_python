{
 "cells": [
  {
   "cell_type": "markdown",
   "metadata": {},
   "source": [
    "금광"
   ]
  },
  {
   "cell_type": "code",
   "execution_count": null,
   "metadata": {},
   "outputs": [],
   "source": [
    "for tc in range(int(input())):\n",
    "    n, m = map(int, input().split())\n",
    "    array = list(map(int, input().split()))\n",
    "    \n",
    "dp = []\n",
    "index = 0\n",
    "for i in range(n):\n",
    "    dp.append(array[index:index+m])\n",
    "    index += m\n",
    "    \n",
    "for j in range(1, m):\n",
    "    for i in range(n):\n",
    "        if i == 0:\n",
    "            left_up = 0\n",
    "        else:\n",
    "            left_up = dp[i-1][j-1]\n",
    "        if i == n-1:\n",
    "            left_down = 0\n",
    "        else:\n",
    "            left_down = dp [i+1][j-1]\n",
    "        left = dp[i][j-1]\n",
    "        dp[i][j] = dp[i][j] + max(left_up, left_down, left)\n",
    "        \n",
    "result = 0\n",
    "for i in range(n):\n",
    "    result = max(result, dp[i][m-1])"
   ]
  },
  {
   "cell_type": "code",
   "execution_count": 1,
   "metadata": {},
   "outputs": [
    {
     "name": "stdout",
     "output_type": "stream",
     "text": [
      "2\n",
      "3 4\n",
      "1 3 3 2 2 1 4 1 0 6 4 7\n",
      "4 4\n",
      "1 3 1 5 2 2 4 1 5 0 2 3 0 6 1 2\n",
      "193\n"
     ]
    }
   ],
   "source": [
    "for tc in range(int(input())):\n",
    "    n, m = map(int, input().split())\n",
    "    array = list(map(int, input().split()))\n",
    "    \n",
    "dp = []\n",
    "index = 0\n",
    "for i in range(n):\n",
    "    dp.append(array[index:index+m])\n",
    "    index += m\n",
    "    \n",
    "for j in range(1, m):\n",
    "    for j in range(n):\n",
    "        #왼쪽 위에서 내려올 때\n",
    "        if i == 0:\n",
    "            left_up = 0\n",
    "        else:\n",
    "            left_up = dp[i-1][j-1]\n",
    "        #왼쪽 아래에서 올라올 때\n",
    "        if i == n - 1:\n",
    "            left_down = 0\n",
    "        else:\n",
    "            left_down = dp[i+1][j-1]\n",
    "        #왼쪽에서 왔을 때\n",
    "        left = dp[i][j-1]\n",
    "        dp[i][j] = dp[i][j] + max(left_up, left_down, left)\n",
    "        \n",
    "result = 0\n",
    "for i in range(n):\n",
    "    result = max(result, dp[i][m-1])\n",
    "    \n",
    "print(result)"
   ]
  },
  {
   "cell_type": "markdown",
   "metadata": {},
   "source": [
    "정수삼각형"
   ]
  },
  {
   "cell_type": "code",
   "execution_count": 2,
   "metadata": {},
   "outputs": [
    {
     "name": "stdout",
     "output_type": "stream",
     "text": [
      "5\n",
      "7\n",
      "3 8\n",
      "8 1 0\n",
      "2 7 4 4\n",
      "4 5 2 6 5\n",
      "30\n"
     ]
    }
   ],
   "source": [
    "n = int(input())\n",
    "dp = []\n",
    "\n",
    "for _ in range(n):\n",
    "    dp.append(list(map(int, input().split())))\n",
    "    \n",
    "for i in range(1, n):\n",
    "    for j in range(i+1):\n",
    "        #왼쪽위\n",
    "        if j == 0:\n",
    "            left_up = 0\n",
    "        else:\n",
    "            left_up = dp[i-1][j-1]\n",
    "        #위\n",
    "        if j == i:\n",
    "            up = 0\n",
    "        else:\n",
    "            up = dp[i-1][j]\n",
    "        dp[i][j] = dp[i][j] + max(left_up, up)\n",
    "        \n",
    "print(max(dp[n-1]))"
   ]
  },
  {
   "cell_type": "code",
   "execution_count": 3,
   "metadata": {},
   "outputs": [
    {
     "name": "stdout",
     "output_type": "stream",
     "text": [
      "5\n",
      "7\n",
      "3 8\n",
      "8 1 0\n",
      "2 7 4 4\n",
      "4 5 2 6 5\n",
      "30\n"
     ]
    }
   ],
   "source": [
    "n = int(input())\n",
    "dp = []\n",
    "\n",
    "for _ in range(n):\n",
    "    dp.append(list(map(int, input().split())))\n",
    "    \n",
    "for i in range(1, n):\n",
    "    for j in range(i+1):\n",
    "        #왼쪽위\n",
    "        if j == 0:\n",
    "            left_up = 0\n",
    "        else:\n",
    "            left_up = dp[i-1][j-1]\n",
    "        #위\n",
    "        if j == i:\n",
    "            up = 0\n",
    "        else:\n",
    "            up = dp[i-1][j]\n",
    "        dp[i][j] = dp[i][j] + max(left_up, up)\n",
    "        \n",
    "print(max(dp[n-1]))"
   ]
  },
  {
   "cell_type": "markdown",
   "metadata": {},
   "source": [
    "퇴사"
   ]
  },
  {
   "cell_type": "code",
   "execution_count": 12,
   "metadata": {},
   "outputs": [
    {
     "name": "stdout",
     "output_type": "stream",
     "text": [
      "7\n",
      "3 10\n",
      "5 20\n",
      "1 10\n",
      "1 20\n",
      "2 15\n",
      "4 40\n",
      "2 200\n",
      "45\n"
     ]
    }
   ],
   "source": [
    "n = int(input())\n",
    "t = [] #완료하는데 걸리는 시간\n",
    "p = [] #돈\n",
    "dp = [0] * (n+1)\n",
    "max_value = 0\n",
    "\n",
    "for _ in range(n):\n",
    "    x, y = map(int, input().split())\n",
    "    t.append(x)\n",
    "    p.append(y)\n",
    "    \n",
    "for i in range(n-1, -1, -1):\n",
    "    time = t[i] + i\n",
    "    \n",
    "    if time <= n:\n",
    "        dp[i] = max(p[i] + dp[time], max_value)\n",
    "        max_value = dp[i]\n",
    "    else:\n",
    "        dp[i] = max_value\n",
    "print(max_value)"
   ]
  },
  {
   "cell_type": "code",
   "execution_count": 5,
   "metadata": {},
   "outputs": [
    {
     "name": "stdout",
     "output_type": "stream",
     "text": [
      "4\n",
      "3\n",
      "2\n",
      "1\n",
      "0\n"
     ]
    }
   ],
   "source": [
    "n = 5\n",
    "\n",
    "for i in range(n-1, -1, -1):\n",
    "    print(i)"
   ]
  },
  {
   "cell_type": "code",
   "execution_count": 11,
   "metadata": {},
   "outputs": [
    {
     "name": "stdout",
     "output_type": "stream",
     "text": [
      "7\n",
      "3 10\n",
      "5 20\n",
      "1 10\n",
      "1 20\n",
      "2 15\n",
      "4 40\n",
      "2 200\n",
      "45\n"
     ]
    }
   ],
   "source": [
    "n = int(input())\n",
    "t = []\n",
    "p = []\n",
    "dp = [0] * (n+1)\n",
    "max_value = 0\n",
    "\n",
    "for _ in range(n):\n",
    "    x, y = map(int, input().split())\n",
    "    t.append(x)\n",
    "    p.append(y)\n",
    "    \n",
    "for i in range(n-1, -1, -1):\n",
    "    time = t[i] + i\n",
    "    \n",
    "    if time <= n:\n",
    "        dp[i] = max(p[i] + dp[t[i] + i], max_value)\n",
    "        max_value = dp[i]\n",
    "    else:\n",
    "        dp[i] = max_value\n",
    "        \n",
    "print(max_value)"
   ]
  },
  {
   "cell_type": "code",
   "execution_count": 10,
   "metadata": {},
   "outputs": [
    {
     "name": "stdout",
     "output_type": "stream",
     "text": [
      "7\n",
      "3 10\n",
      "5 20\n",
      "1 10\n",
      "1 20\n",
      "2 15\n",
      "4 40\n",
      "2 200\n",
      "45\n"
     ]
    }
   ],
   "source": [
    "n = int(input()) # 전체 상담 개수\n",
    "t = [] # 각 상담을 완료하는데 걸리는 기간\n",
    "p = [] # 각 상담을 완료했을 때 받을 수 있는 금액\n",
    "dp = [0] * (n + 1) # 다이나믹 프로그래밍을 위한 1차원 DP 테이블 초기화\n",
    "max_value = 0\n",
    "\n",
    "for _ in range(n):\n",
    "    x, y = map(int, input().split())\n",
    "    t.append(x)\n",
    "    p.append(y)\n",
    "\n",
    "# 리스트를 뒤에서부터 거꾸로 확인\n",
    "for i in range(n - 1, -1, -1):\n",
    "    time = t[i] + i\n",
    "    # 상담이 기간 안에 끝나는 경우\n",
    "    if time <= n:\n",
    "        # 점화식에 맞게, 현재까지의 최고 이익 계산\n",
    "        dp[i] = max(p[i] + dp[time], max_value)\n",
    "        max_value = dp[i]\n",
    "    # 상담이 기간을 벗어나는 경우\n",
    "    else:\n",
    "        dp[i] = max_value\n",
    "\n",
    "print(max_value)"
   ]
  },
  {
   "cell_type": "markdown",
   "metadata": {},
   "source": [
    "병사 배치하기"
   ]
  },
  {
   "cell_type": "code",
   "execution_count": 16,
   "metadata": {},
   "outputs": [
    {
     "name": "stdout",
     "output_type": "stream",
     "text": [
      "20\n",
      "10\n",
      "21\n"
     ]
    }
   ],
   "source": [
    "array = [10, 20, 10, 30, 20, 50]\n",
    "\n",
    "i = 2\n",
    "j = 1\n",
    "\n",
    "print(array[j])\n",
    "print(array[i])\n",
    "\n",
    "print(array[j] + 1)"
   ]
  },
  {
   "cell_type": "code",
   "execution_count": 19,
   "metadata": {},
   "outputs": [
    {
     "name": "stdout",
     "output_type": "stream",
     "text": [
      "7\n",
      "15 11 4 8 5 2 4\n",
      "[4, 2, 5, 8, 4, 11, 15]\n",
      "2\n",
      "2\n",
      "2\n",
      "2\n",
      "3\n",
      "2\n",
      "2\n",
      "2\n",
      "3\n",
      "4\n",
      "4\n",
      "2\n",
      "2\n",
      "3\n",
      "4\n",
      "4\n",
      "5\n"
     ]
    }
   ],
   "source": [
    "n = int(input())\n",
    "array = list(map(int, input().split()))\n",
    "array.reverse()\n",
    "print(array)\n",
    "\n",
    "dp = [1] * n\n",
    "for i in range(1, n):\n",
    "    for j in range(0, i):\n",
    "        if array[j] < array[i]:\n",
    "            dp[i] = max(dp[i], dp[j]+1)\n",
    "            print(dp[i])"
   ]
  },
  {
   "cell_type": "code",
   "execution_count": 21,
   "metadata": {},
   "outputs": [
    {
     "name": "stdout",
     "output_type": "stream",
     "text": [
      "7\n",
      "15 11 4 8 5 2 4\n",
      "[1, 1, 1, 1, 1, 1, 1]\n",
      "2\n",
      "5\n"
     ]
    }
   ],
   "source": [
    "n = int(input())\n",
    "array = list(map(int, input().split()))\n",
    "array.reverse()\n",
    "\n",
    "dp = [1] * n\n",
    "print(dp)\n",
    "\n",
    "for i in range(1, n):\n",
    "    for j in range(0, i):\n",
    "        if array[j] < array[i]:\n",
    "            dp[i] = max(dp[i], dp[j] + 1)\n",
    "    \n",
    "print(n - max(dp))\n",
    "print(max(dp))"
   ]
  },
  {
   "cell_type": "markdown",
   "metadata": {},
   "source": [
    "못생긴 수"
   ]
  },
  {
   "cell_type": "code",
   "execution_count": 22,
   "metadata": {},
   "outputs": [
    {
     "name": "stdout",
     "output_type": "stream",
     "text": [
      "10\n",
      "12\n"
     ]
    }
   ],
   "source": [
    "n = int(input())\n",
    "\n",
    "ugly = [0] * n\n",
    "ugly[0] = 1\n",
    "\n",
    "i2 = i3 = i5 = 0\n",
    "next2, next3, next5 = 2, 3, 5\n",
    "\n",
    "for l in range(1, n):\n",
    "    ugly[l] = min(next2, next3, next5)\n",
    "    if ugly[l] == next2:\n",
    "        i2 += 1\n",
    "        next2 = ugly[i2] * 2\n",
    "    if ugly[l] == next3:\n",
    "        i3 += 1\n",
    "        next3 = ugly[i3] * 3\n",
    "    if ugly[l] == next5:\n",
    "        i5 += 1\n",
    "        next5 = ugly[i5] * 5\n",
    "        \n",
    "print(ugly[n-1])"
   ]
  },
  {
   "cell_type": "code",
   "execution_count": 23,
   "metadata": {},
   "outputs": [
    {
     "name": "stdout",
     "output_type": "stream",
     "text": [
      "10\n",
      "12\n"
     ]
    }
   ],
   "source": [
    "n = int(input())\n",
    "\n",
    "ugly = [0] * n\n",
    "ugly[0] = 1\n",
    "\n",
    "i2 = i3 = i5 = 0\n",
    "next2, next3, next5 = 2, 3, 5\n",
    "\n",
    "for l in range(1, n):\n",
    "    ugly[l] = min(next2, next3, next5)\n",
    "    if ugly[l] == next2:\n",
    "        i2 += 1\n",
    "        next2 = ugly[i2] * 2\n",
    "    if ugly[l] == next3:\n",
    "        i3 += 1\n",
    "        next3 = ugly[i3] * 3\n",
    "    if ugly[l] == next5:\n",
    "        i5 += 1\n",
    "        next5 = ugly[i5] * 5\n",
    "        \n",
    "print(ugly[n-1])"
   ]
  },
  {
   "cell_type": "markdown",
   "metadata": {},
   "source": [
    "편집거리"
   ]
  },
  {
   "cell_type": "code",
   "execution_count": 24,
   "metadata": {},
   "outputs": [
    {
     "name": "stdout",
     "output_type": "stream",
     "text": [
      "cut\n",
      "cat\n",
      "1\n",
      "2\n",
      "3\n",
      "1\n",
      "2\n",
      "3\n",
      "1\n"
     ]
    }
   ],
   "source": [
    "str1 = input()\n",
    "str2 = input()\n",
    "\n",
    "\n",
    "def edit_dist(str1, str2):\n",
    "    n = len(str1)\n",
    "    m = len(str2)\n",
    "    \n",
    "    dp = [[0] * (m+1) for _ in range(n+1)]\n",
    "    \n",
    "    for i in range(1, n+1):\n",
    "        dp[i][0] = i\n",
    "        print(dp[i][0])\n",
    "    for j in range(1, m+1):\n",
    "        dp[0][j] = j\n",
    "        print(dp[0][j])\n",
    "        \n",
    "    for i in range(1, n+1):\n",
    "        for j in range(1, m+1):\n",
    "            if str1[i-1] == str2[j-1]:\n",
    "                dp[i][j] = dp[i-1][j-1]\n",
    "            else:\n",
    "                dp[i][j] = 1 + min(dp[i][j-1], dp[i-1][j], dp[i-1][j-1])\n",
    "    return dp[n][m]\n",
    "\n",
    "print(edit_dist(str1, str2))"
   ]
  },
  {
   "cell_type": "code",
   "execution_count": 26,
   "metadata": {},
   "outputs": [
    {
     "name": "stdout",
     "output_type": "stream",
     "text": [
      "cut\n",
      "cat\n",
      "1\n"
     ]
    }
   ],
   "source": [
    "str1 = input()\n",
    "str2 = input()\n",
    "\n",
    "def edit_dist(str1, str2):\n",
    "    n = len(str1)\n",
    "    m = len(str2)\n",
    "    \n",
    "    dp = [[0] * (m+1) for _ in range(n+1)]\n",
    "    \n",
    "    for i in range(1, n+1):\n",
    "        dp[i][0] = i\n",
    "    for j in range(1, m+1):\n",
    "        dp[0][j] = j\n",
    "        \n",
    "    for i in range(1, n+1):\n",
    "        for j in range(1, m+1):\n",
    "            if str1[i-1] == str2[j-1]:\n",
    "                dp[i][j] = dp[i-1][j-1]\n",
    "            else:\n",
    "                dp[i][j] = 1 + min(dp[i][j-1], dp[i-1][j], dp[i-1][j-1])\n",
    "    return dp[n][m]\n",
    "print(edit_dist(str1, str2))"
   ]
  },
  {
   "cell_type": "markdown",
   "metadata": {},
   "source": [
    "화성탐사"
   ]
  },
  {
   "cell_type": "code",
   "execution_count": null,
   "metadata": {},
   "outputs": [],
   "source": [
    "import heapq\n",
    "import sys\n",
    "input = sys.stdin.readline\n",
    "INF = int(1e9)\n",
    "\n",
    "dx = [-1,0,1,0]\n",
    "dy = [0,-1,0,1]\n",
    "\n",
    "for tc in range(int(input())):\n",
    "    n = int(input())\n",
    "    graph = []\n",
    "    for i in range(n):\n",
    "        graph.append(list(map(int, input().split())))\n",
    "        \n",
    "distance = [[INF] * n for _ in range(n)]\n",
    "\n",
    "x, y = 0, 0"
   ]
  }
 ],
 "metadata": {
  "kernelspec": {
   "display_name": "Python 3",
   "language": "python",
   "name": "python3"
  },
  "language_info": {
   "codemirror_mode": {
    "name": "ipython",
    "version": 3
   },
   "file_extension": ".py",
   "mimetype": "text/x-python",
   "name": "python",
   "nbconvert_exporter": "python",
   "pygments_lexer": "ipython3",
   "version": "3.8.3"
  }
 },
 "nbformat": 4,
 "nbformat_minor": 4
}
