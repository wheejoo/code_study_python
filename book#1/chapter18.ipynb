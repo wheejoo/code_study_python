{
 "cells": [
  {
   "cell_type": "code",
   "execution_count": 4,
   "metadata": {},
   "outputs": [
    {
     "name": "stdout",
     "output_type": "stream",
     "text": [
      "6210\n"
     ]
    }
   ],
   "source": [
    "numbers = [6,10,2]\n",
    "\n",
    "def solution(numbers):\n",
    "    numbers = [str(x) for x in numbers]\n",
    "    numbers.sort(key=lambda x : (x * 4)[:4], reverse = True)\n",
    "    if numbers[0] == '0' :\n",
    "        answer = '0'\n",
    "    else:\n",
    "        answer = ''.join(numbers)\n",
    "    return answer\n",
    "\n",
    "print(solution(numbers))"
   ]
  },
  {
   "cell_type": "markdown",
   "metadata": {},
   "source": [
    "여행계획"
   ]
  },
  {
   "cell_type": "code",
   "execution_count": 7,
   "metadata": {},
   "outputs": [
    {
     "name": "stdout",
     "output_type": "stream",
     "text": [
      "5 4\n",
      "0 1 0 1 1\n",
      "1 0 1 1 0\n",
      "0 1 0 0 0\n",
      "1 1 0 0 0\n",
      "1 0 0 0 0\n",
      "2 3 4 3\n",
      "Yes\n"
     ]
    }
   ],
   "source": [
    "def find_parent(parent, x):\n",
    "    if parent[x] != x:\n",
    "        parent[x] = find_parent(parent, parent[x])\n",
    "    return parent[x]\n",
    "\n",
    "def union_parent(parent, a, b):\n",
    "    a = find_parent(parent, a)\n",
    "    b = find_parent(parent, b)\n",
    "    if a < b:\n",
    "        parent[b] = a\n",
    "    else:\n",
    "        parent[a] = b\n",
    "        \n",
    "n,m = map(int, input().split())\n",
    "parent = [0] * (n+1)\n",
    "\n",
    "for i in range(1, n+1):\n",
    "    parent[i] = i\n",
    "    \n",
    "for i in range(n):\n",
    "    data = list(map(int, input().split()))\n",
    "    for j in range(n):\n",
    "        if data[j] == 1:\n",
    "            union_parent(parent, i+1, j+1)\n",
    "            \n",
    "plan = list(map(int, input().split()))\n",
    "\n",
    "result = True\n",
    "\n",
    "for i in range(m-1):\n",
    "    if find_parent(parent, plan[i]) != find_parent(parent, plan[i+1]):\n",
    "        result = False\n",
    "        \n",
    "if result:\n",
    "    print(\"Yes\")\n",
    "else:\n",
    "    print(\"No\")"
   ]
  },
  {
   "cell_type": "markdown",
   "metadata": {},
   "source": [
    "탑승구"
   ]
  },
  {
   "cell_type": "code",
   "execution_count": 11,
   "metadata": {},
   "outputs": [
    {
     "name": "stdout",
     "output_type": "stream",
     "text": [
      "4\n",
      "6\n",
      "2\n",
      "2\n",
      "3\n",
      "3\n",
      "3\n"
     ]
    }
   ],
   "source": [
    "def find_parent(parent, x):\n",
    "    if parent[x] != x:\n",
    "        parent[x] = find_parent(parent, parent[x])\n",
    "    return parent[x]\n",
    "\n",
    "def union_parent(parent, a, b):\n",
    "    a = find_parent(parent, a)\n",
    "    b = find_parent(parent, b)\n",
    "    if a < b:\n",
    "        parent[b] = a\n",
    "    else:\n",
    "        parent[a] = b\n",
    "        \n",
    "g = int(input())\n",
    "p = int(input())\n",
    "parent = [0] * (g + 1)\n",
    "\n",
    "for i in range(1, g+1):\n",
    "    parent[i] = i\n",
    "\n",
    "result = 0\n",
    "for _ in range(p):\n",
    "    data = find_parent(parent, int(input()))\n",
    "    if data == 0:\n",
    "        break\n",
    "    union_parent(parent, data, data-1)\n",
    "    result += 1\n",
    "    \n",
    "print(result)"
   ]
  },
  {
   "cell_type": "markdown",
   "metadata": {},
   "source": [
    "어두운 길"
   ]
  },
  {
   "cell_type": "code",
   "execution_count": 17,
   "metadata": {},
   "outputs": [
    {
     "name": "stdout",
     "output_type": "stream",
     "text": [
      "\n"
     ]
    },
    {
     "ename": "ValueError",
     "evalue": "not enough values to unpack (expected 2, got 0)",
     "output_type": "error",
     "traceback": [
      "\u001b[1;31m---------------------------------------------------------------------------\u001b[0m",
      "\u001b[1;31mValueError\u001b[0m                                Traceback (most recent call last)",
      "\u001b[1;32m<ipython-input-17-86cc171acc2a>\u001b[0m in \u001b[0;36m<module>\u001b[1;34m\u001b[0m\n\u001b[0;32m     12\u001b[0m         \u001b[0mparent\u001b[0m\u001b[1;33m[\u001b[0m\u001b[0ma\u001b[0m\u001b[1;33m]\u001b[0m \u001b[1;33m=\u001b[0m \u001b[0mb\u001b[0m\u001b[1;33m\u001b[0m\u001b[1;33m\u001b[0m\u001b[0m\n\u001b[0;32m     13\u001b[0m \u001b[1;33m\u001b[0m\u001b[0m\n\u001b[1;32m---> 14\u001b[1;33m \u001b[0mn\u001b[0m\u001b[1;33m,\u001b[0m\u001b[0mm\u001b[0m \u001b[1;33m=\u001b[0m \u001b[0mmap\u001b[0m\u001b[1;33m(\u001b[0m\u001b[0mint\u001b[0m\u001b[1;33m,\u001b[0m \u001b[0minput\u001b[0m\u001b[1;33m(\u001b[0m\u001b[1;33m)\u001b[0m\u001b[1;33m.\u001b[0m\u001b[0msplit\u001b[0m\u001b[1;33m(\u001b[0m\u001b[1;33m)\u001b[0m\u001b[1;33m)\u001b[0m\u001b[1;33m\u001b[0m\u001b[1;33m\u001b[0m\u001b[0m\n\u001b[0m\u001b[0;32m     15\u001b[0m \u001b[0mparent\u001b[0m \u001b[1;33m=\u001b[0m \u001b[1;33m[\u001b[0m\u001b[1;36m0\u001b[0m\u001b[1;33m]\u001b[0m \u001b[1;33m*\u001b[0m \u001b[1;33m(\u001b[0m\u001b[0mn\u001b[0m\u001b[1;33m+\u001b[0m\u001b[1;36m1\u001b[0m\u001b[1;33m)\u001b[0m\u001b[1;33m\u001b[0m\u001b[1;33m\u001b[0m\u001b[0m\n\u001b[0;32m     16\u001b[0m \u001b[1;33m\u001b[0m\u001b[0m\n",
      "\u001b[1;31mValueError\u001b[0m: not enough values to unpack (expected 2, got 0)"
     ]
    }
   ],
   "source": [
    "def find_parent(parent, x):\n",
    "    if parent[x] != x:\n",
    "        parent[x] = find_parent(parent, parent[x])\n",
    "    return parent[x]\n",
    "\n",
    "def union_parent(parent, a, b):\n",
    "    a = find_parent(parent,a)\n",
    "    b = find_parent(parent,b)\n",
    "    if a < b:\n",
    "        parent[b] = a\n",
    "    else:\n",
    "        parent[a] = b\n",
    "        \n",
    "n,m = map(int, input().split())\n",
    "parent = [0] * (n+1)\n",
    "\n",
    "edges = []\n",
    "result = 0\n",
    "\n",
    "for i in range(1, n+1):\n",
    "    parent[i] = i\n",
    "    \n",
    "for _ in range(m):\n",
    "    x, y, z = map(int, input().split())\n",
    "    edges.append((z, x, y))\n",
    "    \n",
    "edges.sort()\n",
    "total = 0\n",
    "\n",
    "for edge in edges:\n",
    "    cost, a, b = edge\n",
    "    total += cost\n",
    "    \n",
    "    if find_parent(parent, a) != find_parent(parent, b):\n",
    "        union_parent(parent, a, b)\n",
    "        result += cost\n",
    "        \n",
    "print(total-result)"
   ]
  },
  {
   "cell_type": "markdown",
   "metadata": {},
   "source": [
    "행성터널"
   ]
  },
  {
   "cell_type": "code",
   "execution_count": 18,
   "metadata": {},
   "outputs": [
    {
     "name": "stdout",
     "output_type": "stream",
     "text": [
      "5\n",
      "11 -15 -15\n",
      "14 -5 -15\n",
      "-1 -1 -5\n",
      "10 -4 -1\n",
      "19 -4 19\n",
      "4\n"
     ]
    }
   ],
   "source": [
    "def find_parent(parent, x):\n",
    "    if parent[x] != x:\n",
    "        parent[x] = find_parent(parent, parent[x])\n",
    "    return parent[x]\n",
    "\n",
    "def union_parent(parent, a, b):\n",
    "    a = find_parent(parent, a)\n",
    "    b = find_parent(parent, b)\n",
    "    if a < b:\n",
    "        parent[b] = a\n",
    "    else:\n",
    "        parent[a] = b\n",
    "\n",
    "n = int(input())\n",
    "parent = [0] * (n+1)\n",
    "\n",
    "edges = []\n",
    "result = 0\n",
    "\n",
    "for i in range(1, n+1):\n",
    "    parent[i] = i\n",
    "    \n",
    "x = []\n",
    "y = []\n",
    "z = []\n",
    "\n",
    "for i in range(1, n+1):\n",
    "    data = list(map(int, input().split()))\n",
    "    x.append((data[0], i))\n",
    "    y.append((data[1], i))\n",
    "    z.append((data[2], i))\n",
    "\n",
    "x.sort()\n",
    "y.sort()\n",
    "z.sort()\n",
    "\n",
    "for i in range(n-1):\n",
    "    edges.append((x[i+1][0] - x[i][0], x[i][1], x[i+1][1]))\n",
    "    edges.append((y[i+1][0] - y[i][0], y[i][1], y[i+1][1]))\n",
    "    edges.append((z[i+1][0] - z[i][0], z[i][1], z[i+1][1]))\n",
    "    \n",
    "edges.sort()\n",
    "\n",
    "for edge in edges:\n",
    "    cost, a, b = edge\n",
    "    if find_parent(parent, a) != find_parent(parent, b):\n",
    "        union_parent(parent, a, b)\n",
    "        result += cost\n",
    "        \n",
    "print(result)\n",
    "    "
   ]
  },
  {
   "cell_type": "markdown",
   "metadata": {},
   "source": [
    "최종순위"
   ]
  },
  {
   "cell_type": "code",
   "execution_count": 20,
   "metadata": {},
   "outputs": [
    {
     "name": "stdout",
     "output_type": "stream",
     "text": [
      "3\n",
      "5\n",
      "5 4 3 2 1\n",
      "2\n",
      "2 4\n",
      "3 4\n",
      "5 3 2 4 1 \n",
      "3\n",
      "2 3 1\n",
      "0\n",
      "2 3 1 \n",
      "4\n",
      "1 2 3 4\n",
      "3\n",
      "1 2\n",
      "3 4\n",
      "2 3\n",
      "IMPOSSIBLE\n"
     ]
    }
   ],
   "source": [
    "from collections import deque\n",
    "\n",
    "for tc in range(int(input())):\n",
    "    n = int(input())\n",
    "    indegree = [0] * (n+1)\n",
    "    graph = [[False] * (n+1) for i in range(n+1)]\n",
    "    data = list(map(int, input().split()))\n",
    "    for i in range(n):\n",
    "        for j in range(i+1, n):\n",
    "            graph[data[i]][data[j]] = True\n",
    "            indegree[data[j]] += 1\n",
    "            \n",
    "    m = int(input())\n",
    "    for i in range(m):\n",
    "        a,b = map(int, input().split())\n",
    "        if graph[a][b]:\n",
    "            graph[a][b] = False\n",
    "            graph[b][a] = True\n",
    "            indegree[a] += 1\n",
    "            indegree[b] -= 1\n",
    "        else:\n",
    "            graph[a][b] = True\n",
    "            graph[b][a] = False\n",
    "            indegree[a] -= 1\n",
    "            indegree[b] += 1\n",
    "            \n",
    "    result = []\n",
    "    q = deque()\n",
    "    \n",
    "    for i in range(1, n+1):\n",
    "        if indegree[i] == 0:\n",
    "            q.append(i)\n",
    "            \n",
    "    certain = True\n",
    "    cycle = False\n",
    "    \n",
    "    for i in range(n):\n",
    "        if len(q) == 0:\n",
    "            cycle = True\n",
    "            break\n",
    "        if len(q) >= 2:\n",
    "            certain = False\n",
    "            break\n",
    "        now = q.popleft()\n",
    "        result.append(now)\n",
    "        for i in range(1, n+1):\n",
    "            if graph[now][i]:\n",
    "                indegree[i] -= 1\n",
    "                if indegree[i] == 0:\n",
    "                    q.append(i)\n",
    "                    \n",
    "    if cycle:\n",
    "        print(\"IMPOSSIBLE\")\n",
    "    elif not certain:\n",
    "        print(\"?\")\n",
    "    else:\n",
    "        for i in result:\n",
    "            print(i, end = \" \")\n",
    "        print()"
   ]
  },
  {
   "cell_type": "code",
   "execution_count": null,
   "metadata": {},
   "outputs": [],
   "source": []
  }
 ],
 "metadata": {
  "kernelspec": {
   "display_name": "Python 3",
   "language": "python",
   "name": "python3"
  },
  "language_info": {
   "codemirror_mode": {
    "name": "ipython",
    "version": 3
   },
   "file_extension": ".py",
   "mimetype": "text/x-python",
   "name": "python",
   "nbconvert_exporter": "python",
   "pygments_lexer": "ipython3",
   "version": "3.8.3"
  }
 },
 "nbformat": 4,
 "nbformat_minor": 4
}
